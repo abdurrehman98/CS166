{
  "nbformat": 4,
  "nbformat_minor": 0,
  "metadata": {
    "colab": {
      "name": "PCW4.1.ipynb",
      "provenance": []
    },
    "kernelspec": {
      "name": "python3",
      "display_name": "Python 3"
    },
    "language_info": {
      "name": "python"
    }
  },
  "cells": [
    {
      "cell_type": "markdown",
      "source": [
        "Exercise 12.6 : (x+1−x)n=∑i=0n(ni)xi(1−x)n−i = 1"
      ],
      "metadata": {
        "id": "Y2jebKJYnjxL"
      }
    },
    {
      "cell_type": "code",
      "execution_count": null,
      "metadata": {
        "id": "zcW9fHZqcO9E"
      },
      "outputs": [],
      "source": [
        "import sympy\n",
        "# Use p as a symbolic variable\n",
        "from sympy.abc import p\n",
        "# The binomial coefficient function (n choose k)\n",
        "from scipy.special import comb\n"
      ]
    },
    {
      "cell_type": "code",
      "source": [
        "result = (\n",
        "    (1-p) * sum([\n",
        "        comb(8, k) * p**k * (1-p)**(8-k)\n",
        "        for k in range(5, 9)]) +\n",
        "    p * sum([\n",
        "        comb(8, k) * p**k * (1-p)**(8-k)\n",
        "        for k in range(4, 9)]))\n",
        "\n",
        "print(sympy.simplify(result))"
      ],
      "metadata": {
        "colab": {
          "base_uri": "https://localhost:8080/"
        },
        "id": "1mLpioP2cTP-",
        "outputId": "214747ba-22d6-4fb2-b25d-7ed8f9ae8716"
      },
      "execution_count": null,
      "outputs": [
        {
          "output_type": "stream",
          "name": "stdout",
          "text": [
            "p**5*(70.0*p**4 - 315.0*p**3 + 540.0*p**2 - 420.0*p + 126.0)\n"
          ]
        }
      ]
    },
    {
      "cell_type": "code",
      "source": [
        "def plot_cobgraph(f, x0, iter=20):\n",
        "    \"\"\"\n",
        "\n",
        "    Plot a cobweb graph after running 20 iterations for f(x) and y=x\n",
        "    for 0 <= x <= 1\n",
        "\n",
        "    \"\"\"\n",
        "    x = np.linspace(0, 1, 50)\n",
        "    fig = plt.figure(figsize=(9, 6))\n",
        "    ax = fig.add_subplot()\n",
        "\n",
        "    \n",
        "    ax.plot(x, f(x))\n",
        "    ax.plot(x, x)\n",
        "\n",
        "    px, py = np.empty((2,iter+1,2))\n",
        "    px[0], py[0] = x0, 0\n",
        "    for n in range(1, iter, 2):\n",
        "        px[n] = px[n-1]\n",
        "        py[n] = f(px[n-1])\n",
        "        px[n+1] = py[n]\n",
        "        py[n+1] = py[n]\n",
        "\n",
        "    # Plot the path traced out by the iteration.\n",
        "    ax.plot(px, py, c='b', alpha=0.7)"
      ],
      "metadata": {
        "id": "fk3xRmwDj2YM"
      },
      "execution_count": null,
      "outputs": []
    },
    {
      "cell_type": "code",
      "source": [
        "def func(x):\n",
        "    return x**3*(x-1)**5*(28*x-84)\n",
        "\n",
        "plot_cobgraph(func, 0.3)"
      ],
      "metadata": {
        "colab": {
          "base_uri": "https://localhost:8080/",
          "height": 374
        },
        "id": "aAMbKMEEhesS",
        "outputId": "16185c6e-4d61-4bee-8208-e6e3fbf18c11"
      },
      "execution_count": null,
      "outputs": [
        {
          "output_type": "display_data",
          "data": {
            "image/png": "[encoded data removed]",
            "text/plain": [
              "<Figure size 648x432 with 1 Axes>"
            ]
          },
          "metadata": {
            "needs_background": "light"
          }
        }
      ]
    },
    {
      "cell_type": "code",
      "source": [
        ""
      ],
      "metadata": {
        "id": "JUiw5g68oA0I"
      },
      "execution_count": null,
      "outputs": []
    }
  ]
}