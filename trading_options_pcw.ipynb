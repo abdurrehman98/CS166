{
  "cells": [
    {
      "cell_type": "markdown",
      "metadata": {
        "id": "x1iBCVSg7k_z"
      },
      "source": [
        "# Trading options and gaining or losing money\n",
        "\n",
        "You start with ¥ 10,000 and can buy as many of the following call options as you want.\n",
        "\n",
        "* Cost of 1 call option: ¥ 100\n",
        "* Strike price: ¥ 10,500\n",
        "* According to your pricing model, the underlying stock will have a price at the option expiry date distributed according to Normal(¥ 10,500, (¥ 300)²). So, the strike price and the expected value of the stock price are the same.\n",
        "\n",
        "Work through the tasks below to determine a good trading strategy for maximizing your gains and limiting your losses while trading these options.\n",
        "\n",
        "## Getting started\n",
        "\n",
        "Run the code cell below and understand how the output is computed. The output shows the (random) result of buying one call option and waiting until the option expiry date."
      ]
    },
    {
      "cell_type": "code",
      "execution_count": 1,
      "metadata": {
        "id": "xIShdr4v7lAW"
      },
      "outputs": [],
      "source": [
        "import numpy as np\n",
        "import matplotlib.pyplot as plt\n",
        "\n",
        "def calculate_money_at_option_expiry(\n",
        "    money_at_start, options_purchased, price_per_option=100,\n",
        "    strike_price=10500, expiry_price_mean=10500, expiry_price_stdev=300):\n",
        "\n",
        "    '''\n",
        "    Calculate how much money you have after buying some number of call\n",
        "    options with a strike price of `strike_price`, and waiting for them to\n",
        "    expire. The value of the underlying stock at expiry is a sample from a\n",
        "    normal distribution with mean `expiry_mean_price` and standard\n",
        "    deviation `expiry_price_stdev`.\n",
        "\n",
        "    Arguments:\n",
        "\n",
        "        money_at_start (float) How much money you have before buying the\n",
        "          options.\n",
        "\n",
        "        options_purchased (int) How many options you purchase.\n",
        "\n",
        "        price_per_option (float) The price of 1 option.\n",
        "\n",
        "        strike_price (float) The strike price of the option.\n",
        "\n",
        "        expiry_price_mean (float) The mean of the normal distribution of\n",
        "          the stock price at expiry.\n",
        "\n",
        "        expiry_price_stdev (float) The standard deviation of the normal\n",
        "          distribution of the stock price at expiry.\n",
        "\n",
        "    All arguments can also be NumPy arrays instead of scalars.\n",
        "\n",
        "    Returns: (float or array) the amount of money you have left after the\n",
        "      options expired, based on the random sample(s) from the final stock\n",
        "      price distribution.\n",
        "    '''\n",
        "    stock_price = np.random.normal(\n",
        "        expiry_price_mean, expiry_price_stdev,\n",
        "        size=np.shape(money_at_start))\n",
        "    option_value_at_expiry = np.maximum(0, stock_price - strike_price)\n",
        "    money_at_end = (\n",
        "        money_at_start\n",
        "        - options_purchased * price_per_option\n",
        "        + options_purchased * option_value_at_expiry)\n",
        "    return money_at_end"
      ]
    },
    {
      "cell_type": "code",
      "execution_count": 2,
      "metadata": {
        "colab": {
          "base_uri": "https://localhost:8080/"
        },
        "id": "CpyCOjBw7lAa",
        "outputId": "385a44ec-e96c-4559-91e1-e35ecb5a296e"
      },
      "outputs": [
        {
          "output_type": "stream",
          "name": "stdout",
          "text": [
            "We started with ¥ 10000.00\n",
            "We bought 1 option(s)\n",
            "We ended up with ¥ 10029.85\n"
          ]
        }
      ],
      "source": [
        "# Buy 1 option and see what happens. You can run this cell a few times to\n",
        "# see different random outcomes.\n",
        "\n",
        "money_at_start = 10000\n",
        "price_per_option = 100\n",
        "options = 1\n",
        "\n",
        "money_at_end = calculate_money_at_option_expiry(\n",
        "    money_at_start, options, price_per_option)\n",
        "\n",
        "print(f'We started with ¥ {money_at_start:.2f}')\n",
        "print(f'We bought {options} option(s)')\n",
        "print(f'We ended up with ¥ {money_at_end:.2f}')"
      ]
    },
    {
      "cell_type": "markdown",
      "metadata": {
        "id": "FT1tItyF7lAc"
      },
      "source": [
        "## Task 1\n",
        "\n",
        "Use the function above to simulate buying 1 option 100,000 times and\n",
        "plot a histogram of the results using 100 histogram bins. This histogram\n",
        "will show the distribution over how much money you might have left\n",
        "when starting with ¥ 10,000 and buying 1 option. Also, use your results\n",
        "to compute the average, 25th, 50th, and 75th percentiles, and risk of\n",
        "loss for this trade. (The risk of ruin is 0 since it's impossible to lose\n",
        "all your money when buying only 1 option.)\n",
        "\n",
        "1. Plot a histogram.\n",
        "2. Compute the average amount of money you end up with and plot it on the histogram.\n",
        "3. Compute the 25th, 50th, and 75th percentiles and plot them on the histogram.\n",
        "4. Compute the risk of loss."
      ]
    },
    {
      "cell_type": "code",
      "execution_count": 18,
      "metadata": {
        "colab": {
          "base_uri": "https://localhost:8080/",
          "height": 282
        },
        "id": "LW8OhNGs7lAe",
        "outputId": "4b358979-47f1-4416-b3cd-f18b595229d8"
      },
      "outputs": [
        {
          "output_type": "stream",
          "name": "stdout",
          "text": [
            "Risk of loss is 0.62917\n"
          ]
        },
        {
          "output_type": "display_data",
          "data": {
            "image/png": "[encoded data removed]",
            "text/plain": [
              "<Figure size 432x288 with 1 Axes>"
            ]
          },
          "metadata": {
            "needs_background": "light"
          }
        }
      ],
      "source": [
        "# Run the simple simulation above 100,000 times and record results\n",
        "closing = []\n",
        "for i in range(100000):\n",
        "  money_at_end = calculate_money_at_option_expiry(money_at_start, options, price_per_option)\n",
        "  closing.append(money_at_end)\n",
        "\n",
        "percentile = np.percentile(closing, (25,50,75))\n",
        "count = sum(np.array(closing) < money_at_start)\n",
        "loss = count/len(closing)\n",
        "\n",
        "# Plot a histogram of the results and print out the metrics\n",
        "plt.hist(closing)\n",
        "plt.axvline(percentile[0], color='red', linestyle=':', label='percentiles')\n",
        "plt.axvline(percentile[1], color='red', linestyle=':')\n",
        "plt.axvline(percentile[2], color='red', linestyle=':')\n",
        "plt.axvline(np.mean(closing), color = 'red', linestyle='-',label='mean')\n",
        "plt.legend()\n",
        "print(\"Risk of loss is\", loss)"
      ]
    },
    {
      "cell_type": "markdown",
      "metadata": {
        "id": "_ZB5eVLF7lAf"
      },
      "source": [
        "## Task 2\n",
        "\n",
        "You now get to play the game of risking some money on buying options repeatedly. To start with, assume you buy 1 option (as in Task 1) but you do it 20 times in sequence.\n",
        "\n",
        "1. Buy 1 option and let it expire. You will now have a little more or less money than you started with.\n",
        "2. Buy another option and let it expire.\n",
        "3. You can make at most 20 such trades. If you have less than ¥ 100 (the price of 1 option) left, you lost all your money and cannot make any more trades.\n",
        "\n",
        "Reuse and update your code from Task 1 to simulate this scenario. Plot the resulting histogram and compute the same metrics as in Task 1.\n",
        "\n",
        "### Questions\n",
        "\n",
        "1. Are we making money or losing money, on average?\n",
        "2. What is the minimum amount of money we can end up with? Explain why."
      ]
    },
    {
      "cell_type": "code",
      "execution_count": 19,
      "metadata": {
        "colab": {
          "base_uri": "https://localhost:8080/",
          "height": 282
        },
        "id": "0nMHn95L7lAg",
        "outputId": "0b0c2146-c218-41d0-8b76-8800645f3d2a"
      },
      "outputs": [
        {
          "output_type": "stream",
          "name": "stdout",
          "text": [
            "Risk of loss is 0.32266\n"
          ]
        },
        {
          "output_type": "display_data",
          "data": {
            "image/png": "[encoded data removed]",
            "text/plain": [
              "<Figure size 432x288 with 1 Axes>"
            ]
          },
          "metadata": {
            "needs_background": "light"
          }
        }
      ],
      "source": [
        "# Compute the money left after 20 trades of 1 option for 100,000 trials\n",
        "def moneytotal(starting, price = 100, options =1, trials = 20):\n",
        "  starting = 10000\n",
        "  for i in range(trials):\n",
        "    if starting > price:\n",
        "      starting = calculate_money_at_option_expiry(starting, options, price)\n",
        "    else:\n",
        "      break\n",
        "  return starting\n",
        "\n",
        "\n",
        "closing = []\n",
        "for i in range(100000):\n",
        "  money_at_end = moneytotal(10000)\n",
        "  closing.append(money_at_end)\n",
        "\n",
        "percentile = np.percentile(closing, (25,50,75))\n",
        "count = sum(np.array(closing) < money_at_start)\n",
        "loss = count/len(closing)\n",
        "\n",
        "# Plot a histogram of the results and print out the metrics\n",
        "plt.hist(closing)\n",
        "plt.axvline(percentile[0], color='red', linestyle=':', label='percentiles')\n",
        "plt.axvline(percentile[1], color='red', linestyle=':')\n",
        "plt.axvline(percentile[2], color='red', linestyle=':')\n",
        "plt.axvline(np.mean(closing), color = 'red', linestyle='-',label='mean')\n",
        "plt.legend()\n",
        "print(\"Risk of loss is\", loss)\n",
        "\n",
        "\n"
      ]
    },
    {
      "cell_type": "markdown",
      "metadata": {
        "id": "TqepvwnK7lAh"
      },
      "source": [
        "## Task 3\n",
        "\n",
        "Modify the code in Task 2 such that, rather than buying only 1 option in each of the 20 trades, you risk 30% of your money on every trade. So, for example, if you have ¥ 5,000 left, you would risk ¥ 1,500 and buy 15 options at ¥ 100 per option. You should round the number of options to the nearest integer.\n",
        "\n",
        "1. Use 30% of your remaining money to buy options let them expire. You will now have more or less money than you started with.\n",
        "3. You can make at most 20 such trades. If you have less than ¥ 100 (the price of 1 option) left, you lost all your money and cannot make any more trades.\n",
        "\n",
        "Reuse and update your code from Task 2 to simulate this scenario. Plot the resulting histogram and compute the same metrics as in Task 1. You should now add the _risk of ruin_ metric since you might run out of money.\n",
        "\n",
        "### Questions\n",
        "\n",
        "1. Are we making money or losing money, on average?\n",
        "2. Should we risk more or less than 30% of our money on each trade?"
      ]
    },
    {
      "cell_type": "code",
      "execution_count": 21,
      "metadata": {
        "colab": {
          "base_uri": "https://localhost:8080/",
          "height": 313
        },
        "id": "1Vy-Sxez7lAj",
        "outputId": "60b692be-91f6-46c3-a4e7-4cf337ac45c5"
      },
      "outputs": [
        {
          "output_type": "stream",
          "name": "stdout",
          "text": [
            "Risk of loss is 0.66909\n",
            "Risk of ruin is 0.0\n"
          ]
        },
        {
          "output_type": "display_data",
          "data": {
            "image/png": "[encoded data removed]",
            "text/plain": [
              "<Figure size 432x288 with 1 Axes>"
            ]
          },
          "metadata": {
            "needs_background": "light"
          }
        }
      ],
      "source": [
        "# Compute the money left after 20 trades with 30% risked per trade for\n",
        "# 100,000 trials\n",
        "def moneytotal(starting, price = 100, trials = 20):\n",
        "  starting = 10000\n",
        "  for i in range(trials):\n",
        "    if starting > price:\n",
        "      options = (starting*0.3)//price\n",
        "      starting = calculate_money_at_option_expiry(starting, options, price)\n",
        "    else:\n",
        "      break\n",
        "  return starting\n",
        "\n",
        "\n",
        "closing = []\n",
        "for i in range(100000):\n",
        "  money_at_end = moneytotal(10000)\n",
        "  closing.append(money_at_end)\n",
        "\n",
        "percentile = np.percentile(closing, (25,50,75))\n",
        "count = sum(np.array(closing) < money_at_start)\n",
        "loss = count/len(closing)\n",
        "\n",
        "countruin = sum(np.array(closing) < 1)\n",
        "ruin = countruin/len(closing)\n",
        "\n",
        "# Plot a histogram of the results and print out the metrics\n",
        "plt.hist(closing)\n",
        "plt.axvline(percentile[0], color='red', linestyle=':', label='percentiles')\n",
        "plt.axvline(percentile[1], color='red', linestyle=':')\n",
        "plt.axvline(percentile[2], color='red', linestyle=':')\n",
        "plt.axvline(np.mean(closing), color = 'red', linestyle='-',label='mean')\n",
        "plt.legend()\n",
        "print(\"Risk of loss is\", loss)\n",
        "print(\"Risk of ruin is\", ruin)\n",
        "\n",
        "\n"
      ]
    },
    {
      "cell_type": "markdown",
      "metadata": {
        "id": "hVi0tfpS7lAk"
      },
      "source": [
        "## Task 4 (optional)\n",
        "\n",
        "Determine the optimal fraction of your money to risk on each trade. It's not 30%. Which metric(s) should you use for this optimization?"
      ]
    },
    {
      "cell_type": "code",
      "execution_count": null,
      "metadata": {
        "id": "6xwLrm0U7lAm"
      },
      "outputs": [],
      "source": [
        ""
      ]
    }
  ],
  "metadata": {
    "kernelspec": {
      "display_name": "Python 3",
      "language": "python",
      "name": "python3"
    },
    "language_info": {
      "codemirror_mode": {
        "name": "ipython",
        "version": 3
      },
      "file_extension": ".py",
      "mimetype": "text/x-python",
      "name": "python",
      "nbconvert_exporter": "python",
      "pygments_lexer": "ipython3",
      "version": "3.8.3"
    },
    "colab": {
      "name": "trading-options-pcw.ipynb",
      "provenance": []
    }
  },
  "nbformat": 4,
  "nbformat_minor": 0
}