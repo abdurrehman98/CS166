{
  "nbformat": 4,
  "nbformat_minor": 0,
  "metadata": {
    "colab": {
      "name": "PCW3.2",
      "provenance": []
    },
    "kernelspec": {
      "name": "python3",
      "display_name": "Python 3"
    },
    "language_info": {
      "name": "python"
    }
  },
  "cells": [
    {
      "cell_type": "code",
      "execution_count": 5,
      "metadata": {
        "id": "vvQtAJE3nhGw"
      },
      "outputs": [],
      "source": [
        "import matplotlib.pyplot as plt\n",
        "%matplotlib inline\n",
        "import pylab\n"
      ]
    },
    {
      "cell_type": "code",
      "source": [
        "n = 100 # size of space: n x n\n",
        "p = 0.1 # probability of initially panicky individuals\n",
        "\n",
        "def initialize():\n",
        "    global config, nextconfig, density\n",
        "    config = pylab.zeros([n, n])\n",
        "    density = []\n",
        "    for x in range(n):\n",
        "        for y in range(n):\n",
        "            config[x, y] = 1 if pylab.random() < p else 0\n",
        "    nextconfig = pylab.zeros([n, n])\n",
        "    \n",
        "def observe():\n",
        "    global config, nextconfig, density\n",
        "    pylab.cla()\n",
        "    pylab.subplot(1,3,1)\n",
        "    pylab.imshow(config, vmin = 0, vmax = 1, cmap = pylab.cm.binary)\n",
        "    #pylab.subplot(1,3,3) \n",
        "    plt.plot(density)\n",
        "    plt.show()\n",
        "\n",
        "def update():\n",
        "    global config, nextconfig, density\n",
        "    for x in range(n):\n",
        "        for y in range(n):\n",
        "            count = 0\n",
        "            for dx in [-1, 0, 1]:\n",
        "                for dy in [-1, 0, 1]:\n",
        "                    count += config[(x + dx) % n, (y + dy) % n]\n",
        "            nextconfig[x, y] = 1 if count >= 4 else 0\n",
        "    config, nextconfig = nextconfig, config"
      ],
      "metadata": {
        "id": "b986IzjcoUSk"
      },
      "execution_count": 26,
      "outputs": []
    },
    {
      "cell_type": "code",
      "source": [
        "initialize()\n",
        "for i in range(10):\n",
        "    update()\n",
        "observe()"
      ],
      "metadata": {
        "colab": {
          "base_uri": "https://localhost:8080/",
          "height": 150
        },
        "id": "NdW3m9HLoMSV",
        "outputId": "4649d08b-5a8c-4e33-96c2-849f0a546754"
      },
      "execution_count": 27,
      "outputs": [
        {
          "output_type": "display_data",
          "data": {
            "image/png": "[encoded data removed]",
            "text/plain": [
              "<Figure size 432x288 with 1 Axes>"
            ]
          },
          "metadata": {
            "needs_background": "light"
          }
        }
      ]
    },
    {
      "cell_type": "markdown",
      "source": [
        "## Exercise 11.5"
      ],
      "metadata": {
        "id": "DnB-CwVrqHSE"
      }
    },
    {
      "cell_type": "code",
      "source": [
        "def initialize(p=0.1):\n",
        "    global config, nextconfig, density\n",
        "    config = pylab.zeros([n, n])\n",
        "    density = []\n",
        "    for x in range(n):\n",
        "        for y in range(n):\n",
        "            config[x, y] = 1 if pylab.random() < p else 0\n",
        "    nextconfig = pylab.zeros([n, n])\n",
        "    \n",
        "def observe():\n",
        "    global config, nextconfig, density\n",
        "    pylab.cla()\n",
        "    pylab.subplot(1,3,1)\n",
        "    pylab.imshow(config, vmin = 0, vmax = 1, cmap = pylab.cm.binary)\n",
        "    #pylab.subplot(1,3,3) \n",
        "    plt.plot(density)\n",
        "    plt.show()\n",
        "\n",
        "def update():\n",
        "    global config, nextconfig, density\n",
        "    for x in range(n):\n",
        "        for y in range(n):\n",
        "            count = 0\n",
        "            for dx in [-1, 0, 1]:\n",
        "                for dy in [-1, 0, 1]:\n",
        "                    count += config[(x + dx) % n, (y + dy) % n]\n",
        "            nextconfig[x, y] = 1 if count >= 4 else 0\n",
        "    config, nextconfig = nextconfig, config"
      ],
      "metadata": {
        "id": "51lLK6JDogex"
      },
      "execution_count": 28,
      "outputs": []
    },
    {
      "cell_type": "code",
      "source": [
        "n = 100 # size of space: n x n\n",
        "p = 0.45 # probability of initially panicky individuals\n",
        "initialize(p)\n",
        "\n",
        "for i in range(100):\n",
        "    update()\n",
        "observe()"
      ],
      "metadata": {
        "colab": {
          "base_uri": "https://localhost:8080/",
          "height": 150
        },
        "id": "AR12DX6eqS30",
        "outputId": "adb38233-e8b7-4b02-c269-c6dd80cc7082"
      },
      "execution_count": 29,
      "outputs": [
        {
          "output_type": "display_data",
          "data": {
            "image/png": "[encoded data removed]",
            "text/plain": [
              "<Figure size 432x288 with 1 Axes>"
            ]
          },
          "metadata": {
            "needs_background": "light"
          }
        }
      ]
    },
    {
      "cell_type": "code",
      "source": [
        ""
      ],
      "metadata": {
        "id": "-PPu1KuCqVVe"
      },
      "execution_count": null,
      "outputs": []
    }
  ]
}