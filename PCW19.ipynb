{
  "nbformat": 4,
  "nbformat_minor": 0,
  "metadata": {
    "colab": {
      "name": "PCW19.ipynb",
      "provenance": []
    },
    "kernelspec": {
      "name": "python3",
      "display_name": "Python 3"
    },
    "language_info": {
      "name": "python"
    }
  },
  "cells": [
    {
      "cell_type": "code",
      "execution_count": 3,
      "metadata": {
        "id": "JuZNiaGJDMtw"
      },
      "outputs": [],
      "source": [
        "import matplotlib.pyplot as plt\n",
        "from pylab import *\n",
        "import networkx as nx\n",
        "import random as rd\n",
        "import numpy as np\n",
        "\n",
        "\n",
        "def initialize():\n",
        "    global g\n",
        "    g = nx.karate_club_graph()\n",
        "    g.pos = nx.spring_layout(g)\n",
        "    for i in g.nodes:\n",
        "        g.nodes[i]['state'] = 1 if random() < .5 else 0\n",
        "\n",
        "def observe():\n",
        "    global g\n",
        "    cla()\n",
        "    nx.draw(g, vmin = 0, vmax = 1,\n",
        "            node_color = [g.nodes[i]['state'] for i in g.nodes],\n",
        "            pos = g.pos)\n",
        "\n",
        "def update():\n",
        "    global g\n",
        "    listener = rd.choice(list(g.nodes))\n",
        "    speaker = rd.choice(list(g.neighbors(listener)))\n",
        "    g.nodes[listener]['state'] = g.nodes[speaker]['state']\n",
        "\n",
        "\n",
        "def update_new():\n",
        "    global g \n",
        "    states = [] \n",
        "    for i in range(len(g.nodes())):\n",
        "        states.append(g.nodes[i]['state'])\n",
        "        \n",
        "    if sum(states) == len(g.nodes()):\n",
        "        return True \n",
        "    \n",
        "    elif sum(states) == 0:\n",
        "        return True \n",
        "    \n",
        "    else:\n",
        "        return False \n"
      ]
    },
    {
      "cell_type": "code",
      "source": [
        "def convergence_steps(n):\n",
        "    tot_count_convergence = []\n",
        "    \n",
        "    for i in range(n):\n",
        "        initialize()         \n",
        "        steps = 0       \n",
        "        while update_new() == False:\n",
        "            update()            \n",
        "            steps += 1\n",
        "        \n",
        "        tot_count_convergence.append(steps)\n",
        "        \n",
        "    return tot_count_convergence\n",
        "        \n",
        "avg_steps_convergence = convergence_steps(100)\n",
        "\n",
        "plt.hist(avg_steps_convergence, density = True)\n",
        "plt.title(\"Default version\")\n",
        "print(\"Mean:\", np.mean(avg_steps_convergence))"
      ],
      "metadata": {
        "colab": {
          "base_uri": "https://localhost:8080/",
          "height": 298
        },
        "id": "Lx7Lsc-6DNP2",
        "outputId": "bc174295-f81b-4a72-8fa8-3ace4d2ce970"
      },
      "execution_count": 5,
      "outputs": [
        {
          "output_type": "stream",
          "name": "stdout",
          "text": [
            "Mean: 589.76\n"
          ]
        },
        {
          "output_type": "display_data",
          "data": {
            "text/plain": [
              "<Figure size 432x288 with 1 Axes>"
            ],
            "image/png": "[encoded data removed]"
          },
          "metadata": {
            "needs_background": "light"
          }
        }
      ]
    },
    {
      "cell_type": "code",
      "source": [
        "def update_reversed():\n",
        "    global g\n",
        "    speaker = rd.choice(list(g.nodes))\n",
        "    listener = rd.choice(list(g.neighbors(speaker)))\n",
        "    g.nodes[listener]['state'] = g.nodes[speaker]['state']"
      ],
      "metadata": {
        "id": "w8XME4AkFgV6"
      },
      "execution_count": 6,
      "outputs": []
    },
    {
      "cell_type": "code",
      "source": [
        "def convergence_steps(n):\n",
        "    tot_count_convergence = []\n",
        "    \n",
        "    for i in range(n):\n",
        "        initialize()         \n",
        "        steps = 0       \n",
        "        while update_new() == False:\n",
        "            update_reversed()            \n",
        "            steps += 1\n",
        "        \n",
        "        tot_count_convergence.append(steps)\n",
        "        \n",
        "    return tot_count_convergence\n",
        "        \n",
        "avg_steps_convergence = convergence_steps(100)\n",
        "\n",
        "plt.hist(avg_steps_convergence, density = True)\n",
        "plt.title(\"Reversed version\")\n",
        "print(\"Mean:\", np.mean(avg_steps_convergence))"
      ],
      "metadata": {
        "colab": {
          "base_uri": "https://localhost:8080/",
          "height": 298
        },
        "id": "wAl4wZBsFpuN",
        "outputId": "2e7dedd6-d235-4276-b27f-d4791bbad972"
      },
      "execution_count": 7,
      "outputs": [
        {
          "output_type": "stream",
          "name": "stdout",
          "text": [
            "Mean: 4040.81\n"
          ]
        },
        {
          "output_type": "display_data",
          "data": {
            "text/plain": [
              "<Figure size 432x288 with 1 Axes>"
            ],
            "image/png": "[encoded data removed]"
          },
          "metadata": {
            "needs_background": "light"
          }
        }
      ]
    },
    {
      "cell_type": "code",
      "source": [
        "def update_edge():\n",
        "    global g\n",
        "    \n",
        "    node = rd.choice(list(g.edges))\n",
        "    \n",
        "    node = list(node)\n",
        "    \n",
        "    speaker = rd.choice(node)\n",
        "    node.remove(speaker)\n",
        "    listener = rd.choice(node)\n",
        "\n",
        "    g.nodes[listener]['state'] = g.nodes[speaker]['state']"
      ],
      "metadata": {
        "id": "o5i9C3PFFy09"
      },
      "execution_count": 8,
      "outputs": []
    },
    {
      "cell_type": "code",
      "source": [
        "def convergence_steps(n):\n",
        "    tot_count_convergence = []\n",
        "    \n",
        "    for i in range(n):\n",
        "        initialize()         \n",
        "        steps = 0       \n",
        "        while update_new() == False:\n",
        "            update_edge()            \n",
        "            steps += 1\n",
        "        \n",
        "        tot_count_convergence.append(steps)\n",
        "        \n",
        "    return tot_count_convergence\n",
        "        \n",
        "avg_steps_convergence = convergence_steps(100)\n",
        "\n",
        "plt.hist(avg_steps_convergence, density = True)\n",
        "plt.title(\"Edge version\")\n",
        "print(\"Mean:\", np.mean(avg_steps_convergence))"
      ],
      "metadata": {
        "colab": {
          "base_uri": "https://localhost:8080/",
          "height": 298
        },
        "id": "5_hxHuRXGKJk",
        "outputId": "615d0c67-6472-445c-8b2a-73d55d4685bb"
      },
      "execution_count": 9,
      "outputs": [
        {
          "output_type": "stream",
          "name": "stdout",
          "text": [
            "Mean: 1005.99\n"
          ]
        },
        {
          "output_type": "display_data",
          "data": {
            "text/plain": [
              "<Figure size 432x288 with 1 Axes>"
            ],
            "image/png": "[encoded data removed]"
          },
          "metadata": {
            "needs_background": "light"
          }
        }
      ]
    },
    {
      "cell_type": "code",
      "source": [
        ""
      ],
      "metadata": {
        "id": "PosOL8Z1GPEI"
      },
      "execution_count": null,
      "outputs": []
    }
  ]
}