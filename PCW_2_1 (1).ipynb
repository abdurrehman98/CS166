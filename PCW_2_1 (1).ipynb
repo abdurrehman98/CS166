{
  "nbformat": 4,
  "nbformat_minor": 0,
  "metadata": {
    "colab": {
      "name": "PCW 2.1.ipynb",
      "provenance": []
    },
    "kernelspec": {
      "name": "python3",
      "display_name": "Python 3"
    },
    "language_info": {
      "name": "python"
    }
  },
  "cells": [
    {
      "cell_type": "code",
      "execution_count": null,
      "metadata": {
        "id": "SdAbv1Naff-Y"
      },
      "outputs": [],
      "source": [
        "import numpy as np\n",
        "from math import sqrt\n",
        "import random\n",
        "import heapq\n",
        "\n",
        "class Event:\n",
        "    '''\n",
        "    Store the properties of one event in the Schedule class defined below. Each\n",
        "    event has a time at which it needs to run, a function to call when running\n",
        "    the event, along with the arguments and keyword arguments to pass to that\n",
        "    function.\n",
        "    '''\n",
        "    def __init__(self, timestamp, function, *args, **kwargs):\n",
        "        self.timestamp = timestamp\n",
        "        self.function = function\n",
        "        self.args = args\n",
        "        self.kwargs = kwargs\n",
        "\n",
        "    def __lt__(self, other):\n",
        "        '''\n",
        "        This overloads the less-than operator in Python. We need it so the\n",
        "        priority queue knows how to compare two events. We want events with\n",
        "        earlier (smaller) times to go first.\n",
        "        '''\n",
        "        return self.timestamp < other.timestamp\n",
        "\n",
        "    def run(self, schedule):\n",
        "        '''\n",
        "        Run an event by calling the function with its arguments and keyword\n",
        "        arguments. The first argument to any event function is always the\n",
        "        schedule in which events are being tracked. The schedule object can be\n",
        "        used to add new events to the priority queue.\n",
        "        '''\n",
        "        self.function(schedule, *self.args, **self.kwargs)\n",
        "\n",
        "\n",
        "class Schedule:\n",
        "    '''\n",
        "    Implement an event schedule using a priority queue. You can add events and\n",
        "    run the next event.\n",
        "    \n",
        "    The `now` attribute contains the time at which the last event was run.\n",
        "    '''\n",
        "    \n",
        "    def __init__(self):\n",
        "        self.now = 0  # Keep track of the current simulation time\n",
        "        self.priority_queue = []  # The priority queue of events to run\n",
        "    \n",
        "    def add_event_at(self, timestamp, function, *args, **kwargs):\n",
        "        # Add an event to the schedule at a particular point in time.\n",
        "        heapq.heappush(\n",
        "            self.priority_queue,\n",
        "            Event(timestamp, function, *args, **kwargs))\n",
        "    \n",
        "    def add_event_after(self, interval, function, *args, **kwargs):\n",
        "        # Add an event to the schedule after a specified time interval.\n",
        "        self.add_event_at(self.now + interval, function, *args, **kwargs)\n",
        "    \n",
        "    def next_event_time(self):\n",
        "        # Return the time of the next event. The `now` attribute of this class\n",
        "        # contain the time of the last event that was run.\n",
        "        return self.priority_queue[0].timestamp\n",
        "\n",
        "    def run_next_event(self):\n",
        "        # Get the next event from the priority queue and run it.\n",
        "        event = heapq.heappop(self.priority_queue)\n",
        "        self.now = event.timestamp\n",
        "        event.run(self)\n",
        "        \n",
        "    def __repr__(self):\n",
        "        return (\n",
        "            f'Schedule() at time {self.now} ' +\n",
        "            f'with {len(self.priority_queue)} events in the queue')\n",
        "    \n",
        "    def print_events(self):\n",
        "        # Print out diagnostic information about the events in the schedule.\n",
        "        print(repr(self))\n",
        "        for event in sorted(self.priority_queue):\n",
        "            print(f'   {event.timestamp}: {event.function.__name__}')"
      ]
    },
    {
      "cell_type": "code",
      "source": [
        "class Queue:\n",
        "    def __init__(self, service_distribution):\n",
        "        self.service_distribution = service_distribution\n",
        "        # We start with an empty queue and the server not busy\n",
        "        self.people_in_queue = 0\n",
        "        self.people_being_served = 0\n",
        "\n",
        "    def add_customer(self, schedule):\n",
        "        # Add the customer to the queue\n",
        "        self.people_in_queue += 1\n",
        "        if self.people_being_served < 1:\n",
        "            # This customer can be served immediately\n",
        "            schedule.add_event_after(0, self.start_serving_customer)\n",
        "            \n",
        "    def start_serving_customer(self, schedule):\n",
        "        # from queue to a server\n",
        "        self.people_in_queue -= 1\n",
        "        self.people_being_served += 1\n",
        "        schedule.add_event_after(\n",
        "            self.service_distribution.rvs(),\n",
        "            self.finish_serving_customer)\n",
        "            \n",
        "    def finish_serving_customer(self, schedule):\n",
        "        # Remove the customer\n",
        "        self.people_being_served -= 1\n",
        "        if self.people_in_queue > 0:\n",
        "            # serve the next customer\n",
        "            schedule.add_event_after(0, self.start_serving_customer)\n",
        "\n",
        "\n",
        "class BusSystem:\n",
        "    \n",
        "    def __init__(self, arrival_distribution, service_distribution):\n",
        "        self.queue = Queue(service_distribution)\n",
        "        self.arrival_distribution = arrival_distribution\n",
        "\n",
        "    def add_customer(self, schedule):\n",
        "        # Add this customer to the queue\n",
        "        self.queue.add_customer(schedule)\n",
        "        # Schedule when to add another customer\n",
        "        schedule.add_event_after(\n",
        "            self.arrival_distribution.rvs(),\n",
        "            self.add_customer)\n",
        "\n",
        "    def run(self, schedule):\n",
        "        # Schedule when the first customer arrives\n",
        "        schedule.add_event_after(\n",
        "            self.arrival_distribution.rvs(),\n",
        "            self.add_customer)"
      ],
      "metadata": {
        "id": "qt9N36xtfmbq"
      },
      "execution_count": null,
      "outputs": []
    },
    {
      "cell_type": "code",
      "source": [
        "def run_experiment(arrival_rate, departure_rate, final_time):\n",
        "    '''\n",
        "    Run the queueing experiment for particular arrival and departure ratews.\n",
        "    This will make a plot of the number of people in the queue over time.\n",
        "    \n",
        "    Inputs:\n",
        "    \n",
        "        arrival_rate (float) The rate at which new people join the back of the\n",
        "          queue. Units: people per second.\n",
        "        \n",
        "        departure_rate (float) The rate at which people are served and leave\n",
        "          the queue. Units people per second.\n",
        "        \n",
        "        final_time (float) Until what time to run the simulation. When the next\n",
        "        arrival and departure times are later than this, the simulation will\n",
        "        end. Units: seconds.\n",
        "\n",
        "    Returns: None\n",
        "    '''\n",
        "\n",
        "    # Set up the exponential distributions for arrivals and departures\n",
        "    arrival_distribution = sts.expon(scale=1/arrival_rate)\n",
        "    departure_distribution = sts.expon(scale=1/departure_rate)\n",
        "\n",
        "    people_in_queue = 0  # Start with an empty queue\n",
        "    next_arrival_time = arrival_distribution.rvs()  # Generate the first arrival\n",
        "    \n",
        "    # We need at least 1 arrival before we can have departures so we set the\n",
        "    # first departure time to infinity. This will be modified below.\n",
        "    next_departure_time = np.inf  \n",
        "\n",
        "    plot_data = {\n",
        "        'time': [],\n",
        "        'people_in_queue': []}\n",
        "    \n",
        "    ### I cant quite figure out what to do here\n",
        "        \n",
        "    # Make the plot of the queue length over time\n",
        "    plt.figure()\n",
        "    plt.title('Simulated queue length over time')\n",
        "    plt.plot(plot_data['time'], plot_data['people_in_queue'], 'k.')\n",
        "    plt.xlabel('time [s]')\n",
        "    plt.ylabel('queue length')\n",
        "    plt.show()"
      ],
      "metadata": {
        "id": "IlS1Wveqf1Bh"
      },
      "execution_count": null,
      "outputs": []
    },
    {
      "cell_type": "code",
      "source": [
        ""
      ],
      "metadata": {
        "colab": {
          "base_uri": "https://localhost:8080/",
          "height": 328
        },
        "id": "ERDrjjaDgFo2",
        "outputId": "dcbaba5d-87aa-4115-e13c-20f499965321"
      },
      "execution_count": null,
      "outputs": [
        {
          "output_type": "error",
          "ename": "AttributeError",
          "evalue": "ignored",
          "traceback": [
            "\u001b[0;31m---------------------------------------------------------------------------\u001b[0m",
            "\u001b[0;31mAttributeError\u001b[0m                            Traceback (most recent call last)",
            "\u001b[0;32m<ipython-input-8-f3121a391e07>\u001b[0m in \u001b[0;36m<module>\u001b[0;34m()\u001b[0m\n\u001b[1;32m      5\u001b[0m \u001b[0;31m# Run the simulation 3 times to see different random results\u001b[0m\u001b[0;34m\u001b[0m\u001b[0;34m\u001b[0m\u001b[0;34m\u001b[0m\u001b[0m\n\u001b[1;32m      6\u001b[0m \u001b[0;32mfor\u001b[0m \u001b[0mi\u001b[0m \u001b[0;32min\u001b[0m \u001b[0mrange\u001b[0m\u001b[0;34m(\u001b[0m\u001b[0;36m3\u001b[0m\u001b[0;34m)\u001b[0m\u001b[0;34m:\u001b[0m\u001b[0;34m\u001b[0m\u001b[0;34m\u001b[0m\u001b[0m\n\u001b[0;32m----> 7\u001b[0;31m     \u001b[0mrun_simulation\u001b[0m\u001b[0;34m(\u001b[0m\u001b[0marrival_rate\u001b[0m\u001b[0;34m,\u001b[0m \u001b[0mdeparture_rate\u001b[0m\u001b[0;34m,\u001b[0m \u001b[0mfinal_time\u001b[0m\u001b[0;34m)\u001b[0m\u001b[0;34m\u001b[0m\u001b[0;34m\u001b[0m\u001b[0m\n\u001b[0m",
            "\u001b[0;32m<ipython-input-7-ad45f36e82cf>\u001b[0m in \u001b[0;36mrun_simulation\u001b[0;34m(arrival_distribution, service_distribution, run_until)\u001b[0m\n\u001b[1;32m      2\u001b[0m     \u001b[0mschedule\u001b[0m \u001b[0;34m=\u001b[0m \u001b[0mSchedule\u001b[0m\u001b[0;34m(\u001b[0m\u001b[0;34m)\u001b[0m\u001b[0;34m\u001b[0m\u001b[0;34m\u001b[0m\u001b[0m\n\u001b[1;32m      3\u001b[0m     \u001b[0mbus_system\u001b[0m \u001b[0;34m=\u001b[0m \u001b[0mBusSystem\u001b[0m\u001b[0;34m(\u001b[0m\u001b[0marrival_distribution\u001b[0m\u001b[0;34m,\u001b[0m \u001b[0mservice_distribution\u001b[0m\u001b[0;34m)\u001b[0m\u001b[0;34m\u001b[0m\u001b[0;34m\u001b[0m\u001b[0m\n\u001b[0;32m----> 4\u001b[0;31m     \u001b[0mbus_system\u001b[0m\u001b[0;34m.\u001b[0m\u001b[0mrun\u001b[0m\u001b[0;34m(\u001b[0m\u001b[0mschedule\u001b[0m\u001b[0;34m)\u001b[0m\u001b[0;34m\u001b[0m\u001b[0;34m\u001b[0m\u001b[0m\n\u001b[0m\u001b[1;32m      5\u001b[0m     \u001b[0;32mwhile\u001b[0m \u001b[0mschedule\u001b[0m\u001b[0;34m.\u001b[0m\u001b[0mnext_event_time\u001b[0m\u001b[0;34m(\u001b[0m\u001b[0;34m)\u001b[0m \u001b[0;34m<\u001b[0m \u001b[0mrun_until\u001b[0m\u001b[0;34m:\u001b[0m\u001b[0;34m\u001b[0m\u001b[0;34m\u001b[0m\u001b[0m\n\u001b[1;32m      6\u001b[0m         \u001b[0mschedule\u001b[0m\u001b[0;34m.\u001b[0m\u001b[0mrun_next_event\u001b[0m\u001b[0;34m(\u001b[0m\u001b[0;34m)\u001b[0m\u001b[0;34m\u001b[0m\u001b[0;34m\u001b[0m\u001b[0m\n",
            "\u001b[0;32m<ipython-input-6-3431cfea66b8>\u001b[0m in \u001b[0;36mrun\u001b[0;34m(self, schedule)\u001b[0m\n\u001b[1;32m     47\u001b[0m         \u001b[0;31m# Schedule when the first customer arrives\u001b[0m\u001b[0;34m\u001b[0m\u001b[0;34m\u001b[0m\u001b[0;34m\u001b[0m\u001b[0m\n\u001b[1;32m     48\u001b[0m         schedule.add_event_after(\n\u001b[0;32m---> 49\u001b[0;31m             \u001b[0mself\u001b[0m\u001b[0;34m.\u001b[0m\u001b[0marrival_distribution\u001b[0m\u001b[0;34m.\u001b[0m\u001b[0mrvs\u001b[0m\u001b[0;34m(\u001b[0m\u001b[0;34m)\u001b[0m\u001b[0;34m,\u001b[0m\u001b[0;34m\u001b[0m\u001b[0;34m\u001b[0m\u001b[0m\n\u001b[0m\u001b[1;32m     50\u001b[0m             self.add_customer)\n",
            "\u001b[0;31mAttributeError\u001b[0m: 'int' object has no attribute 'rvs'"
          ]
        }
      ]
    },
    {
      "cell_type": "markdown",
      "source": [
        "I applied #pythonimplementation by using OOP to create the queue and busSystem class. I believe that this is the first step of solving the overall problem as I will require some of the assumptions such as the total capacity and travel limit to be initialized globally, and then certain more classes to be incorporated into the programming that I have done. Unfortunately, I could not fully test these two classes since I feel there are still missing pieces to implementation of M/D/1. Nevertheless, I think by commenting to describe what I have been doing, I have done a solid enough job on #codereadability as well, which will help me later on."
      ],
      "metadata": {
        "id": "RzU0UQflfi6p"
      }
    },
    {
      "cell_type": "code",
      "source": [
        ""
      ],
      "metadata": {
        "id": "evzw0MJegMF0"
      },
      "execution_count": null,
      "outputs": []
    }
  ]
}
