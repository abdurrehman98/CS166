{
  "nbformat": 4,
  "nbformat_minor": 0,
  "metadata": {
    "colab": {
      "name": "Project_1.ipynb",
      "provenance": [],
      "collapsed_sections": []
    },
    "kernelspec": {
      "name": "python3",
      "display_name": "Python 3"
    },
    "language_info": {
      "name": "python"
    }
  },
  "cells": [
    {
      "cell_type": "markdown",
      "source": [
        "# First Project\n",
        "\n",
        "## Introduction\n",
        "In the first assignment, I will be modeling a bus system that takes into account a variety of inputs to try to mimic what a real world scenario would look like computationally. The purpose of the project is not to achieve perfection with aspect to reality, but to create a system that can have meaningful analyses extracted out of it. \n",
        "\n",
        "## Feedback\n",
        "I would like feedback on how well I implemented the assumptions. I know that the assumptions are given as quantitative values, and thus it makes things less black and white, but I still think that it is imperative for me to apply these assumptions in a cohesive way, such that the results are harmonious and the analysis is effective.\n",
        "\n",
        "## Basic Model and Assumptions\n",
        "A circular bus route operates 24 hours per day. The buses on the route allow passengers to embark and disembark at 15 different stops before looping back to the start of the route. At each bus stop, passengers wait until the next bus arrives, get on the bus, and finally get off the bus at their chosen destination. The rate at which passengers join the queue at a bus stop is constant and does not depend on the time of day.\n",
        "\n",
        "The time (in minutes) between consecutive passengers joining a queue at each bus stop is assumed to come from an exponential distribution with rate parameter λ = 1. Each passenger chooses uniformly at random a destination that is at most 7 stops away from where they start.\n",
        "\n",
        "When a bus stops, the time (in minutes) it takes passengers to disembark is normally distributed with mean μ=0.03n and standard deviation = 0.01√n where n is the number of passengers who want to disembark. \n",
        "\n",
        "The time it takes passengers in the queue to get on the bus is also normally distributed with mean μ2 = 0.05n and standard deviation σ2 = 0.01√n. No passengers can embark while other passengers are still disembarking.\n",
        "\n",
        "The maximum capacity of each bus is 130 passengers. If the bus is full, no more passengers can embark and they have to wait for the next bus to arrive.\n",
        "The travel time of the bus between consecutive bus stops follows a normal distribution with parameters μ minutes and minutes. \n",
        "\n",
        "With all this being listed, we can start discussing some of the initial experimentation.\n"
      ],
      "metadata": {
        "id": "61rlk6KHqifh"
      }
    },
    {
      "cell_type": "markdown",
      "source": [
        "## Initial Experiments\n",
        "The most appropriate theory to use in this scenario would be the queueing theory, and one of the principles taught by queuing theory is M/G/1. In basic terms, this model is follows markovian arrivals - meaning an exponential distribution is used to characterize the models. Service times can be generalized which gives greater freedom to experiment.\n",
        "\n",
        "Such is the case that arrival time can be denoted by lambda. λ=1 mean an arrival rate of one.\n",
        "The arrival distribution can be written down as an exponential of 1/λ.\n",
        "\n",
        "The 15 bus stops could be initialized as a list. It is important that some sort of periodic boundary is set since the bus can go from stop 15 to stop 1 (or Python indexing). This would result in the bus completing the circle properly. \n",
        "\n",
        "Since the instructions say that the passengers choose from a uniform distribution any stop that is not the same one (so that queueing is not redundant), we can initialize the travel in this way."
      ],
      "metadata": {
        "id": "sLXdL3VktHg_"
      }
    },
    {
      "cell_type": "code",
      "execution_count": 20,
      "metadata": {
        "colab": {
          "base_uri": "https://localhost:8080/"
        },
        "id": "fCzzQidMH_zp",
        "outputId": "b0c6ae1b-a3fd-4f9f-ca68-1bfbcd583256"
      },
      "outputs": [
        {
          "output_type": "stream",
          "name": "stdout",
          "text": [
            "The passenger got on at stop 7 and got off at stop 14\n"
          ]
        }
      ],
      "source": [
        "import random\n",
        "embarking_stop = random.randint(0,14)\n",
        "destination_stop = (embarking_stop + random.randint(1,7)) % 15\n",
        "print(\"The passenger got on at stop\", embarking_stop, \"and got off at stop\", destination_stop)"
      ]
    },
    {
      "cell_type": "markdown",
      "source": [
        "The trickier part is discerning how many people get on and off at each stop. Since the total capacity is 130, we have to ensure that a reasonable amount of people are embarking and disembarking since this will govern the total wait times for people that are queued. "
      ],
      "metadata": {
        "id": "28AVjVmk0S62"
      }
    },
    {
      "cell_type": "code",
      "source": [
        "import numpy as np\n",
        "from math import sqrt\n",
        "import math\n",
        "import statistics\n",
        "import matplotlib.pyplot as plt\n",
        "\n",
        "# Disembarking\n",
        "# Assumption that the bus is full\n",
        "capacity = 130\n",
        "\n",
        "# total passengers who get off\n",
        "disembarking_passengers = random.randint(0, capacity*0.5)\n",
        "\n",
        "available_seats_after = capacity - disembarking_passengers\n",
        "time_to_disembark = np.random.normal(loc=0.03 * disembarking_passengers, scale=0.01 * sqrt(disembarking_passengers))"
      ],
      "metadata": {
        "id": "6VVdykdtIC8j"
      },
      "execution_count": 31,
      "outputs": []
    },
    {
      "cell_type": "markdown",
      "source": [
        "One of the assumptions I added in was that at most, half the bus can disembark. This was done since by only setting it to a default disembarkment pattern, up to 80 - 100 people were disembarking at each stop. Since the distribution of people should be somewhat uniform across all stops, we should see the same amount of people coming in and going at roughly all stops. By making this range too high, we might see odd variances with some stops being embarking heavy, while others being disembarking heavy."
      ],
      "metadata": {
        "id": "nRtA7KUQ21RE"
      }
    },
    {
      "cell_type": "code",
      "source": [
        "# Embarking\n",
        "queue_length = 25\n",
        "\n",
        "# only the available seats can be occupied\n",
        "if available_seats_after < queue_length:\n",
        "    queue_length = available_seats_after\n",
        "else:\n",
        "    embarking_passengers = queue_length\n",
        "\n",
        "time_to_embark = np.random.normal(loc=0.05 * embarking_passengers, scale=0.01 * sqrt(embarking_passengers))\n",
        "total_time = time_to_embark + time_to_disembark\n",
        "\n",
        "# Bus Travel Time\n",
        "travel_time_between_bus_stops = np.random.normal(loc=2, scale=0.5)\n",
        "\n",
        "\n",
        "# Average service time between consecutive stops\n",
        "average_service_time = travel_time_between_bus_stops + total_time\n"
      ],
      "metadata": {
        "id": "04-jRvqsINOw"
      },
      "execution_count": 22,
      "outputs": []
    },
    {
      "cell_type": "markdown",
      "source": [
        "The people who have to embark follow a simple principle - they queue up and take the available seats. If available seats are greater than the queue, everyone joins, otherwise they wait for the next. Embarking happens after disembarking is complete and then the total time is added."
      ],
      "metadata": {
        "id": "qARsJmei4V3O"
      }
    },
    {
      "cell_type": "code",
      "source": [
        "### GUT CHECKS  \n",
        "\n",
        "#Disembarking\n",
        "print(\"A total of\", disembarking_passengers, \"passengers get off the bus at the following stop.\")\n",
        "print(\"It takes\", disembarking_passengers, \"passengers\", time_to_disembark, \"minutes to get off the bus.\")\n",
        "print(\"There are\", available_seats_after, \"seats available after people get off.\")\n",
        "\n",
        "#Embarking gut checks\n",
        "print(embarking_passengers, \"embark the bus in\", time_to_embark, \"minutes.\")\n",
        "print(\"Passengers in the queue have to wait\", time_to_disembark, \"minutes before they can embark.\")\n",
        "print(\"The total time taken to embark for\", embarking_passengers, \"passengers is\", total_time, \"minutes.\")\n",
        "\n",
        "#Travel between stops\n",
        "print(\"The travel time between bus stops is\", travel_time_between_bus_stops, \"Minutes\")\n",
        "\n",
        "#Average service time\n",
        "print(\"The average service time between two stops is\", average_service_time)"
      ],
      "metadata": {
        "colab": {
          "base_uri": "https://localhost:8080/"
        },
        "id": "tsP2i1qzIhOx",
        "outputId": "35278125-0aab-4999-c9e4-4a0cbf35b404"
      },
      "execution_count": 23,
      "outputs": [
        {
          "output_type": "stream",
          "name": "stdout",
          "text": [
            "A total of 52 passengers get off the bus at the following stop.\n",
            "It takes 52 passengers 1.585079200426274 minutes to get off the bus.\n",
            "There are 78 seats available after people get off.\n",
            "25 embark the bus in 1.2843606890896042 minutes.\n",
            "Passengers in the queue have to wait 1.585079200426274 minutes before they can embark.\n",
            "The total time taken to embark for 25 passengers is 2.869439889515878 minutes.\n",
            "The travel time between bus stops is 1.43233787617724 Minutes\n",
            "The average service time between two stops is 4.301777765693118\n"
          ]
        }
      ]
    },
    {
      "cell_type": "markdown",
      "source": [
        "## Discussion\n",
        "On initial reflection, this seems to be working fine. The number of passengers disembarking will vary and there will be some randomness to it, but people embarking will take empty spots so there will always be this dynamic growth and decline of passengers inside the bus. The more important part is the timing of the embarking, disembarking and travel. I think 52 passengers getting off in 1.6 minutes is a little too fast, but it follows the distribution given to us in the instructions. 25 people getting on in 1.28 minutes is also quite fast but this does not take into consideration the passengers sitting down and stuff. For them to wait in queue and then in total take 2.86 minutes to embark is realistic. For now, the initial assumptions serve their purpose."
      ],
      "metadata": {
        "id": "CFiMM8y-6_wv"
      }
    },
    {
      "cell_type": "code",
      "source": [
        "service_time = []\n",
        "total_time_queue = []\n",
        "\n",
        "for i in range(10000):\n",
        "    capacity = 130\n",
        "    occupied = random.randint(0, capacity)\n",
        "    # total passengers who get off\n",
        "    disembarking_passengers = random.randint(0, math.floor(occupied*0.5))\n",
        "    available_seats_after = occupied - disembarking_passengers\n",
        "    time_to_disembark = np.random.normal(loc=0.03 * disembarking_passengers, scale=0.01 * sqrt(disembarking_passengers))\n",
        "    \n",
        "    # Embarking\n",
        "    queue_length = random.randint(0,10)\n",
        "\n",
        "    # only the available seats can be occupied\n",
        "    if available_seats_after < queue_length:\n",
        "        queue_length = available_seats_after\n",
        "    else:\n",
        "        embarking_passengers = queue_length\n",
        "\n",
        "    time_to_embark = np.random.normal(loc=0.05 * embarking_passengers, scale=0.01 * sqrt(embarking_passengers))\n",
        "    total_time = time_to_embark + time_to_disembark\n",
        "\n",
        "    # Bus Travel Time\n",
        "    travel_time_between_bus_stops = np.random.normal(loc=2, scale=0.5)\n",
        "\n",
        "\n",
        "    # Average service time between consecutive stops\n",
        "    average_service_time = travel_time_between_bus_stops + total_time\n",
        "\n",
        "    # time waiting\n",
        "    waiting_time = travel_time_between_bus_stops + time_to_disembark\n",
        "\n",
        "    service_time.append(average_service_time)\n",
        "    total_time_queue.append(waiting_time)\n",
        "\n",
        "mu = statistics.mean(service_time)\n",
        "sigma_stdev = statistics.stdev(service_time)\n",
        "\n",
        "print(mu)\n",
        "print(statistics.mean(total_time_queue))\n",
        "\n"
      ],
      "metadata": {
        "colab": {
          "base_uri": "https://localhost:8080/"
        },
        "id": "U9yqcj5EI8sr",
        "outputId": "2d6ecbd7-8b62-4fa5-e079-69927676858d"
      },
      "execution_count": 48,
      "outputs": [
        {
          "output_type": "stream",
          "name": "stdout",
          "text": [
            "2.7271564235313175\n",
            "2.4836486359237275\n"
          ]
        }
      ]
    },
    {
      "cell_type": "code",
      "source": [
        "# Service time\n",
        "n, bins, patches = plt.hist(service_time, 50, density=False, facecolor='b')\n",
        "\n",
        "plt.xlabel('Time')\n",
        "plt.ylabel('Frequency')\n",
        "plt.title('Service Time')\n",
        "plt.grid(True)\n",
        "plt.show()"
      ],
      "metadata": {
        "colab": {
          "base_uri": "https://localhost:8080/",
          "height": 295
        },
        "id": "-Mfoa3urJCWv",
        "outputId": "22e160df-8434-4bfa-836c-acf80756cacf"
      },
      "execution_count": 50,
      "outputs": [
        {
          "output_type": "display_data",
          "data": {
            "image/png": "[encoded data removed]",
            "text/plain": [
              "<Figure size 432x288 with 1 Axes>"
            ]
          },
          "metadata": {
            "needs_background": "light"
          }
        }
      ]
    },
    {
      "cell_type": "code",
      "source": [
        "# Total queued time\n",
        "n, bins, patches = plt.hist(total_time_queue, 50, density=False, facecolor='orange', alpha=0.75)\n",
        "\n",
        "plt.xlabel('Time (in minutes)')\n",
        "plt.ylabel('Frequency')\n",
        "plt.title('Histogram of Total Time Spent in System')\n",
        "plt.grid(True)\n",
        "plt.show()"
      ],
      "metadata": {
        "colab": {
          "base_uri": "https://localhost:8080/",
          "height": 295
        },
        "id": "84Pog6DJJE0u",
        "outputId": "85d7fe71-8fa9-432f-cb90-d2b2276cc0ee"
      },
      "execution_count": 49,
      "outputs": [
        {
          "output_type": "display_data",
          "data": {
            "image/png": "[encoded data removed]",
            "text/plain": [
              "<Figure size 432x288 with 1 Axes>"
            ]
          },
          "metadata": {
            "needs_background": "light"
          }
        }
      ]
    },
    {
      "cell_type": "markdown",
      "source": [
        "By repeating the same experiment 10000 times we can get a mean value for time spent in the queue and total time spent in the system. This will be helpful for us to analyze an M/G/1 system as it will provide the inputs needed to implement."
      ],
      "metadata": {
        "id": "1-78ET9CBdmn"
      }
    },
    {
      "cell_type": "code",
      "source": [
        "from tqdm import tqdm\n",
        "import scipy.stats as sts\n",
        "\n",
        "average_arrival_rate = 1\n",
        "arrival_distribution = sts.expon(scale=1/average_arrival_rate)\n",
        "\n",
        "time_to_disembark = np.random.normal(loc=0.03 * disembarking_passengers, scale=0.01 * sqrt(disembarking_passengers))\n",
        "time_to_embark = sts.norm(loc=0.05 * embarking_passengers, scale=0.01 * sqrt(embarking_passengers))\n",
        "travel_time_between_bus_stops = sts.norm(loc=2, scale=0.5)\n",
        "\n",
        "tau = 1/mu\n",
        "sigma = sigma_stdev\n",
        "service_distribution = sts.norm(loc=tau, scale=sigma)\n",
        "\n",
        "# service_distribution = sts.expon(scale=1/1)\n",
        "bus_system = run_simulation(arrival_distribution, service_distribution, run_until=100)\n",
        "print(f'There is/are {bus_system.queue.people_in_queue} people in the queue')\n",
        "\n",
        "print(f'Being served: {bus_system.queue.people_being_served}')\n",
        "#print(f'Waiting: {bus_system.queue[1].people_being}')\n",
        "#print(f'#Off: {bus_system.queue[1].people_disembarked} disembarked customers')"
      ],
      "metadata": {
        "colab": {
          "base_uri": "https://localhost:8080/"
        },
        "id": "zq5PTdVFCDf4",
        "outputId": "dcc7874b-5e5d-430c-ab29-44afa743e7b8"
      },
      "execution_count": 73,
      "outputs": [
        {
          "output_type": "stream",
          "name": "stdout",
          "text": [
            "There is/are 2 people in the queue\n",
            "Being served: 1\n"
          ]
        }
      ]
    },
    {
      "cell_type": "code",
      "source": [
        "def run_experiment(arrival_rate_list, service_time_dist, run_until, num_trials):\n",
        "    '''\n",
        "    Run an experiment with different arrival rates for an M/G/1 queue. By\n",
        "    setting the service time distribution appropriately, you can also simulate\n",
        "    M/D/1 and M/M/1 queues.\n",
        "    '''\n",
        "    \n",
        "    # We record only the mean and standard error of the mean for each experiment\n",
        "    results_mean = []\n",
        "    results_std_err = []\n",
        "\n",
        "    for arrival_rate in tqdm(arrival_rate_list):\n",
        "        arrival_distribution = sts.expon(scale=1/arrival_rate)\n",
        "        queue_lengths = []\n",
        "        for trial in range(num_trials):\n",
        "            bus_system = run_simulation(\n",
        "                arrival_distribution, service_time_dist, run_until)\n",
        "            queue_lengths.append(bus_system.queue.people_in_queue)\n",
        "        results_mean.append(np.mean(queue_lengths))\n",
        "        results_std_err.append(sts.sem(queue_lengths))\n",
        "        \n",
        "    # Convert lists to arrays so we can easily add, subtract, and multiply them\n",
        "    results_mean = np.array(results_mean)\n",
        "    results_std_err = np.array(results_std_err)\n",
        "    \n",
        "    return results_mean, results_std_err\n",
        "\n",
        "\n",
        "def make_error_plot(queue_type, rho, mean, std_err, theoretical_function):\n",
        "    '''\n",
        "    Plot the empirical mean and 95% confidence interval of the mean of the queue\n",
        "    length. Also plot the theoretical value for the average queue length using the\n",
        "    supplied theoretical function (a function of rho).\n",
        "    '''\n",
        "    \n",
        "    plt.figure(figsize=(8, 6))\n",
        "    plt.title(f'Average queue length for an {queue_type} queue')\n",
        "    plt.xlabel('utilization ρ')\n",
        "    plt.ylabel('average queue length')\n",
        "\n",
        "    plt.errorbar(\n",
        "        rho, mean, 1.96 * std_err,\n",
        "        color='black', marker='o', capsize=5, linestyle='--', linewidth=1,\n",
        "        label='empirical')\n",
        "\n",
        "    plt.plot(\n",
        "        rho, theoretical_function(rho),\n",
        "        color='red', marker='o', linestyle='--', linewidth=1,\n",
        "        label='theoretical')\n",
        "\n",
        "    plt.legend()\n",
        "    plt.show()\n"
      ],
      "metadata": {
        "id": "OCVc_DpHCfsq"
      },
      "execution_count": 59,
      "outputs": []
    },
    {
      "cell_type": "code",
      "source": [
        "np.random.seed(123)\n",
        "arrival_rate_list = np.array([0.5, 0.6, 0.7, 0.8, 0.9, 0.95])\n",
        "\n",
        "run_until = 300\n",
        "num_trials = 100\n",
        "mg1_mean, mg1_std_err = run_experiment(arrival_rate_list, service_distribution, run_until, num_trials)\n",
        "print('\\nM/G/1 experiment complete')\n"
      ],
      "metadata": {
        "colab": {
          "base_uri": "https://localhost:8080/"
        },
        "id": "TzwNnCjIOUEv",
        "outputId": "62f53808-668b-417e-f5a2-6f86e4cb582f"
      },
      "execution_count": 60,
      "outputs": [
        {
          "output_type": "stream",
          "name": "stderr",
          "text": [
            "100%|██████████| 6/6 [00:28<00:00,  4.67s/it]"
          ]
        },
        {
          "output_type": "stream",
          "name": "stdout",
          "text": [
            "\n",
            "M/G/1 experiment complete\n"
          ]
        },
        {
          "output_type": "stream",
          "name": "stderr",
          "text": [
            "\n"
          ]
        }
      ]
    },
    {
      "cell_type": "code",
      "source": [
        "def theoretical_mg1(rho):\n",
        "    return rho**2 / 2 / (1-rho) * (1 + sigma**2 / tau**2)\n",
        "\n",
        "rho = arrival_rate_list * tau\n",
        "make_error_plot('M/G/1', rho, mg1_mean, mg1_std_err, theoretical_mg1)"
      ],
      "metadata": {
        "colab": {
          "base_uri": "https://localhost:8080/",
          "height": 404
        },
        "id": "SU5ksjw4OzW_",
        "outputId": "9ef075f1-274b-416f-d1e8-67195e6db16b"
      },
      "execution_count": 61,
      "outputs": [
        {
          "output_type": "display_data",
          "data": {
            "image/png": "[encoded data removed]",
            "text/plain": [
              "<Figure size 576x432 with 1 Axes>"
            ]
          },
          "metadata": {
            "needs_background": "light"
          }
        }
      ]
    },
    {
      "cell_type": "markdown",
      "source": [
        "The experimentation and implementation of a basic level of the model is done to theoretically analyze how the M/G/1 implementation may look like. I have done some experiments which showcase that the queue length should stay in control if the utilization rate remains within the bounds specified."
      ],
      "metadata": {
        "id": "EZulAxYyckmU"
      }
    },
    {
      "cell_type": "markdown",
      "source": [
        "# The Model"
      ],
      "metadata": {
        "id": "MrEz8dZ0Iwtp"
      }
    },
    {
      "cell_type": "code",
      "source": [
        "import heapq\n",
        "import scipy.stats as sts\n",
        "import random as rd\n",
        "\n",
        "\n",
        "## Taken from class\n",
        "class Event:\n",
        "    '''\n",
        "    Store the properties of one event in the Schedule class defined below. Each\n",
        "    event has a time at which it needs to run, a function to call when running\n",
        "    the event, along with the arguments and keyword arguments to pass to that\n",
        "    function.\n",
        "    '''\n",
        "    def __init__(self, timestamp, function, *args, **kwargs):\n",
        "        self.timestamp = timestamp\n",
        "        self.function = function\n",
        "        self.args = args\n",
        "        self.kwargs = kwargs\n",
        "\n",
        "    def __lt__(self, other):\n",
        "        '''\n",
        "        This overloads the less-than operator in Python. We need it so the\n",
        "        priority queue knows how to compare two events. We want events with\n",
        "        earlier (smaller) times to go first.\n",
        "        '''\n",
        "        return self.timestamp < other.timestamp\n",
        "\n",
        "    def run(self, schedule):\n",
        "        '''\n",
        "        Run an event by calling the function with its arguments and keyword\n",
        "        arguments. The first argument to any event function is always the\n",
        "        schedule in which events are being tracked. The schedule object can be\n",
        "        used to add new events to the priority queue.\n",
        "        '''\n",
        "        self.function(schedule, *self.args, **self.kwargs)\n",
        "\n",
        "\n",
        "class Schedule:\n",
        "    '''\n",
        "    Implement an event schedule using a priority queue.\n",
        "    \n",
        "    The `now` attribute contains the time at which the last event was run.\n",
        "    '''\n",
        "    \n",
        "    def __init__(self):\n",
        "        self.now = 0  # Keep track of the current simulation time\n",
        "        self.priority_queue = []  # The priority queue of events to run\n",
        "    \n",
        "    def add_event_at(self, timestamp, function, *args, **kwargs):\n",
        "        # Add an event to the schedule at a particular point in time.\n",
        "        heapq.heappush(\n",
        "            self.priority_queue,\n",
        "            Event(timestamp, function, *args, **kwargs))\n",
        "    \n",
        "    def add_event_after(self, interval, function, *args, **kwargs):\n",
        "        # Add an event to the schedule after a specified time interval.\n",
        "        self.add_event_at(self.now + interval, function, *args, **kwargs)\n",
        "    \n",
        "    def next_event_time(self):\n",
        "        return self.priority_queue[0].timestamp\n",
        "\n",
        "    def run_next_event(self):\n",
        "        # Get the next event from the priority queue and run it.\n",
        "        event = heapq.heappop(self.priority_queue)\n",
        "        self.now = event.timestamp\n",
        "        event.run(self)\n",
        "        \n",
        "    def __repr__(self):\n",
        "        return (\n",
        "            f'Schedule() at time {self.now} ' +\n",
        "            f'with {len(self.priority_queue)} events in the queue')\n",
        "    \n",
        "    def print_events(self):\n",
        "        print(repr(self))\n",
        "        for event in sorted(self.priority_queue):\n",
        "            print(f'   {event.timestamp}: {event.function.__name__}')"
      ],
      "metadata": {
        "id": "kl5SH4XPIsBU"
      },
      "execution_count": 7,
      "outputs": []
    },
    {
      "cell_type": "code",
      "source": [
        "class Queue:\n",
        "    def __init__(self):\n",
        "        \n",
        "        # We start with an empty queue and the server not busy\n",
        "        self.people_in_queue = 0\n",
        "        \n",
        "    def add_customer(self):\n",
        "        # Add the customer to the queue\n",
        "        self.people_in_queue += 1\n",
        "        # n people being served get removed from the queue\n",
        "    def serve(self,n):\n",
        "        self.people_in_queue -= n\n",
        "        \n",
        "  \n",
        "class Busses:\n",
        "    def __init__(self,embarking_stop,total_stops=15,\n",
        "                 travel_time_between_bus_stops=sts.norm(loc=2,scale=0.5),\n",
        "                 time_to_embark=sts.norm(loc = 0.03, scale = 0.01),\n",
        "                 time_to_disembark=sts.norm(loc=0.05, scale=0.01),capacity=130):\n",
        "      \n",
        "          # initialize with the inputs chosen for the model\n",
        "        self.nPassengers = 0\n",
        "        self.total_stops = total_stops  \n",
        "        self.cStop = embarking_stop  \n",
        "        self.travel_time_between_bus_stops = travel_time_between_bus_stops\n",
        "        self.capacity = capacity  \n",
        "        self.time_to_embark = time_to_embark\n",
        "        self.time_to_disembark = time_to_disembark\n",
        "        self.stops = {i:0 for i in range(total_stops)} \n",
        "      \n",
        "\n",
        "    def embark(self, *args):\n",
        "        \"\"\"adds people to the bus\"\"\"\n",
        "\n",
        "        \n",
        "        schedule = args[0]\n",
        "        busSystem, stop= args[1]\n",
        "\n",
        "        # only the available seats can be occupied by waiting passengers\n",
        "        # kk = int(self.nPassengers)\n",
        "        n = busSystem.queue[stop].people_in_queue \n",
        "        if n + self.nPassengers > self.capacity:\n",
        "            n = self.capacity - self.nPassengers\n",
        "        self.nPassengers += n\n",
        "\n",
        "        jj = int(self.nPassengers)\n",
        "        # print('-----', (jj-kk == n))\n",
        "\n",
        "        # selecting a random stop at maximum 7 stops away as the destination\n",
        "        for x in range(n):\n",
        "            trip = stop + round(rd.random()*7)\n",
        "            if trip > self.total_stops-1:\n",
        "                trip -= self.total_stops\n",
        "            self.stops[stop] += 1\n",
        "\n",
        "        busSystem.queue[stop].serve(n) \n",
        "\n",
        "       \n",
        "        schedule.add_event_after(\n",
        "            self.travel_time_between_bus_stops.rvs()+self.time_to_embark.rvs()*n,\n",
        "            self.disembark, (busSystem, self.cStop+1))\n",
        "\n",
        "\n",
        "    def disembark(self, *args):\n",
        "        \"\"\"takes people out of the bus\"\"\"\n",
        "\n",
        "        \n",
        "        schedule = args[0]\n",
        "        busSystem, stop= args[1]\n",
        "\n",
        "        # circular path\n",
        "        if stop > self.total_stops-1:\n",
        "            stop -= self.total_stops\n",
        "        self.cStop = int(stop)\n",
        "\n",
        "        # passengers getting off\n",
        "        n = int(self.stops[stop])\n",
        "\n",
        "        new_var = int(self.nPassengers)\n",
        "\n",
        "        # removes them\n",
        "        self.nPassengers -= n\n",
        "        self.stops[stop] = 0 \n",
        "\n",
        "\n",
        "        new_var_2 = int(self.nPassengers)\n",
        "        #print(new_var_2 + n == new_var)\n",
        "\n",
        "        # scheduling the disembarking\n",
        "        schedule.add_event_after(\n",
        "            self.time_to_disembark.rvs()*n,\n",
        "            self.embark, (busSystem, self.cStop))\n",
        "\n",
        "\n"
      ],
      "metadata": {
        "id": "FlfrQZBdI1mz"
      },
      "execution_count": 52,
      "outputs": []
    },
    {
      "cell_type": "code",
      "source": [
        "class BusSystem:\n",
        "    \n",
        "    def __init__(self, buses, arrival_distribution=sts.expon(scale=1), service_distribution=sts.norm(loc=2, scale=0.5),\n",
        "                 stops=15):\n",
        "        self.queue = {i:Queue() for i in range(stops)}\n",
        "        self.arrival_distribution = arrival_distribution\n",
        "        self.service_distribution = service_distribution\n",
        "        self.stops = stops\n",
        "        self.busses = {i:Busses(0) for i in range(buses)}\n",
        "\n",
        "    def add_customer(self, *args):\n",
        "        \n",
        "        queue, schedule = args[1]\n",
        "        # add another customer\n",
        "        self.queue[queue].add_customer()\n",
        "        \n",
        "       \n",
        "        schedule.add_event_after(\n",
        "            self.arrival_distribution.rvs(),\n",
        "            self.add_customer, (queue, schedule))\n",
        "\n",
        "    def run(self, schedule):\n",
        "        # first customer arriving\n",
        "        for i in range(self.stops):\n",
        "            schedule.add_event_after(\n",
        "                self.arrival_distribution.rvs(),\n",
        "                self.add_customer, (i, schedule))\n",
        "\n",
        "        # initialization of bus leaving\n",
        "        for i,bus in self.busses.items():\n",
        "            schedule.add_event_after(\n",
        "                self.service_distribution.rvs()*(i+1),\n",
        "                bus.embark, (self,0))\n",
        "        \n",
        "\n",
        "def run_simulation(n_busses, run_until):\n",
        "    \"\"\"runs the simulation, outputing the total number of people waiting at each timestamp\"\"\"\n",
        "    schedule = Schedule()\n",
        "    bus_system = BusSystem(n_busses)\n",
        "    bus_system.run(schedule)\n",
        "    people_waiting = []\n",
        "    wait_time = []\n",
        "    while schedule.next_event_time() < run_until:\n",
        "        schedule.run_next_event()\n",
        "        wait_time.append([i[1].people_in_queue for i in bus_system.queue.items()])\n",
        "        people_waiting.append(sum([bus_system.queue[i].people_in_queue for i in range(len(bus_system.queue))]))\n",
        "    return people_waiting, wait_time"
      ],
      "metadata": {
        "id": "fPeZQfo9wvKn"
      },
      "execution_count": 80,
      "outputs": []
    },
    {
      "cell_type": "markdown",
      "source": [
        "## Discussion\n",
        "The model is created to serve a simple purpose. The bus system is defined using busses, queues, events and the schedule. The bus governs most of the operations as it defines how people embark and disembark. In simple, FIFO is followed and people add queues uniformly and randomly. The BusSystem class uses the assumptions and equations specified to run the entire process."
      ],
      "metadata": {
        "id": "AqwT6liadQWY"
      }
    },
    {
      "cell_type": "code",
      "source": [
        "import seaborn as sns\n",
        "import numpy as np\n",
        "y=run_simulation(i, 1500)\n",
        "\n",
        "print('average total number of people wating: ', np.mean(y))\n",
        "\n",
        "sns.lineplot(x=range(len(y)), y=y)\n",
        "plt.title('Total number of people in the stops')\n",
        "plt.xlabel('timestamp')\n",
        "plt.ylabel('Number of people')\n",
        "plt.show()"
      ],
      "metadata": {
        "colab": {
          "base_uri": "https://localhost:8080/",
          "height": 312
        },
        "id": "D637FpdxwJ62",
        "outputId": "fcfd1748-b581-4a74-876b-f7414f0b7435"
      },
      "execution_count": 58,
      "outputs": [
        {
          "output_type": "stream",
          "name": "stdout",
          "text": [
            "average total number of people wating:  163.2004925097476\n"
          ]
        },
        {
          "output_type": "display_data",
          "data": {
            "image/png": "[encoded data removed]",
            "text/plain": [
              "<Figure size 432x288 with 1 Axes>"
            ]
          },
          "metadata": {
            "needs_background": "light"
          }
        }
      ]
    },
    {
      "cell_type": "code",
      "source": [
        "import matplotlib.pyplot as plt\n",
        "n = 5\n",
        "initial = 1\n",
        "runs = []\n",
        "wait = []\n",
        "for i in range(initial, n+1):\n",
        "  x, y = run_simulation(i, 1000)\n",
        "  runs.append(x)\n",
        "  wait.append(y)\n",
        "\n",
        "\n",
        "for i,_ in enumerate(runs):\n",
        "    plt.plot(range(len(_)), _, label=f'{i+initial} busses')\n",
        "\n",
        "plt.legend()\n",
        "plt.xlabel('Time')\n",
        "plt.ylabel('People in the stops')\n",
        "plt.title('Total people in the stops')\n",
        "plt.show()"
      ],
      "metadata": {
        "colab": {
          "base_uri": "https://localhost:8080/",
          "height": 295
        },
        "id": "aKLWZ74SyVMk",
        "outputId": "f5c3675b-43ac-4db8-b66b-79a2dbb279e4"
      },
      "execution_count": 191,
      "outputs": [
        {
          "output_type": "display_data",
          "data": {
            "image/png": "[encoded data removed]",
            "text/plain": [
              "<Figure size 432x288 with 1 Axes>"
            ]
          },
          "metadata": {
            "needs_background": "light"
          }
        }
      ]
    },
    {
      "cell_type": "code",
      "source": [
        "def get_waiting_time_single_stop(queue):\n",
        "  waits = []\n",
        "  i = 0\n",
        "  curr_time = 0\n",
        "  people_left = queue[0]\n",
        "  last_in = 0\n",
        "  last_n_people = 0\n",
        "  # last_in_n_people = 0\n",
        "  for j in range(len(queue)-1):\n",
        "    if queue[j+1] - queue[j]  ==  0:\n",
        "      curr_time += 1\n",
        "      continue\n",
        "    elif queue[j+1] - queue[j] < 0:\n",
        "      curr_time += 1\n",
        "      for k in range(abs((queue[j+1] - queue[j]))):\n",
        "        if people_left > 0:\n",
        "          waits.append(curr_time)\n",
        "          people_left -= 1\n",
        "        else:\n",
        "          curr_time = (curr_time + last_in)\n",
        "          #print(curr_time, last_in_is, last_in, last_in_curr_i)\n",
        "          waits.append(curr_time)\n",
        "          people_left = last_n_people\n",
        "          \n",
        "      # if people_left - abs((queue[j+1] - queue[j])) > 0:\n",
        "      #   people_left -= abs((queue[j+1] - queue[j]))\n",
        "      # else:\n",
        "      #   curr_time = last_in\n",
        "    elif queue[j+1] - queue[j] > 0:\n",
        "      # last_in_curr_i = last_in_is[last_in_curr_i+1]\n",
        "      last_in = j\n",
        "      last_n_people = abs(queue[j+1] - queue[j])\n",
        "      # last_in_n_people = abs(queue[j+1] - queue[j])\n",
        "      curr_time += 1\n",
        "  return waits\n",
        "\n",
        "def get_waiting_time(stop_queues):\n",
        "  '''\n",
        "  For a given list of queues, with each element representing the number of people in queue for each stop over time, \n",
        "  return the expected value and 95% CI for that list of queues representing one full simulation for a given\n",
        "  number of busses\n",
        "  '''\n",
        "  all_waits = []\n",
        "  for stop in stop_queues:\n",
        "    print(get_waiting_time_single_stop(stop))\n",
        "    all_waits.append(get_waiting_time_single_stop(stop))\n",
        "  all_waits = np.array(all_waits)\n",
        "  all_waits = all_waits.flatten()\n",
        "  # print(all_waits)\n",
        "  if all_waits != []:\n",
        "    return np.mean(all_waits)\n",
        "  else:\n",
        "    return 0\n",
        "\n",
        "for n in range(10):\n",
        "  rows = []\n",
        "  new = np.array(waits[n])\n",
        "  for j in range(15):\n",
        "    rows.append(new[:,j])\n",
        "  vals = get_waiting_time(rows)\n",
        "  print(vals)\n"
      ],
      "metadata": {
        "colab": {
          "base_uri": "https://localhost:8080/",
          "height": 712
        },
        "id": "F81kKN_pBWNm",
        "outputId": "6368b96b-3b20-4bc8-ee72-fbcce0a708c1"
      },
      "execution_count": 193,
      "outputs": [
        {
          "output_type": "stream",
          "name": "stdout",
          "text": [
            "[49, 640, 2424, 3081, 6210, 6852, 11152, 11814, 17390, 18031, 24909, 25544, 33555, 34189, 43642, 44385, 55256, 55968, 68093, 68725, 82052, 82751, 97456, 98025, 113951]\n",
            "[137, 137, 200, 200, 1429, 1429, 2071, 2071, 3885, 3885, 5109, 5109, 7658, 7658, 9553, 9553, 12697, 12697, 15196, 15196, 18979, 18979, 22139, 22139, 26533, 26533, 30315, 30315, 35387, 35387, 39813, 39813, 45455, 45455, 50490, 50490, 56777, 56777, 62426, 62426, 69373, 69373, 75671, 75671, 83214, 83214, 90147, 90147, 98216, 98216, 105708, 105708, 114492, 114492, 122636, 122636, 132134, 132134, 140949, 140949, 151250, 151250, 160810, 160810, 171667, 171667, 181879, 181879, 193541, 193541, 204471, 204471, 216636, 216636, 228190, 228190, 241047, 241047, 253255, 253255, 266602, 266602, 279375, 279375, 293523, 293523, 306977, 306977, 321707, 321707, 335811, 335811, 351074, 351074, 365751, 365751, 381663, 381663, 396957, 396957]\n",
            "[195, 195, 276, 276, 357, 357, 438, 1027, 1720, 1720, 2413, 2413, 3106, 3106, 4943, 4943, 6203, 6203, 7463, 7463, 8723, 9395, 11345, 11345, 13295, 13295, 15245, 15245, 18472, 18472, 21059, 21059, 23646, 23646, 26233, 26859, 30062, 30062, 33265, 33265, 36468, 36468, 40836, 40836, 44617, 44617, 48398, 48398, 52179, 52839, 57298, 57298, 61757, 61757, 66216, 66216, 71874, 71874, 76931, 76931, 81988, 81988, 87045, 87707, 93421, 93421, 99135, 99135, 104849, 104849, 111825, 111825, 118176, 118176, 124527, 124527, 130878, 131481, 138424, 138424, 145367, 145367, 152310, 152310, 160444, 160444, 167984, 167984, 175524, 175524, 183064, 183707, 191879, 191879, 200051, 200051, 208223, 208223, 217821, 217821, 226705, 226705, 235589, 235589, 244473, 245194, 254809, 254809, 264424, 264424, 274039, 274039, 284915, 284915, 295163, 295163, 305411, 305411, 315659, 316409, 327406, 327406, 338403, 338403, 349400, 349400, 361554, 361554, 373125, 373125, 384696, 384696, 396267, 396932, 409155, 409155, 421378, 421378, 433601, 433601, 446978, 446978, 459787, 459787, 472596, 472596, 485405, 486118, 499640, 499640, 513162, 513162, 526684, 526684, 541428, 541428, 555565, 555565, 569702, 569702, 583839, 584420, 599118, 599118, 613816, 613816, 628514, 628514, 644454, 644454, 659776, 659776, 675098, 675098, 690420]\n",
            "[291, 291, 435, 435, 579, 579, 723, 723, 867, 867, 1011, 1612, 2258, 2258, 2904, 2904, 3550, 3550, 4196, 4196, 4842, 4842, 6715, 6715, 8012, 8012, 9309, 9309, 10606, 10606, 11903, 11903, 13200, 13888, 15840, 15840, 17792, 17792, 19744, 19744, 21696, 21696, 23648, 23648, 26886, 26886, 29500, 29500, 32114, 32114, 34728, 34728, 37342, 37342, 39956, 40582, 43838, 43838, 47094, 47094, 50350, 50350, 53606, 53606, 56862, 56862, 61313, 61313, 65165, 65165, 69017, 69017, 72869, 72869, 76721, 76721, 80573, 81214, 85714, 85714, 90214, 90214, 94714, 94714, 99214, 99214, 103714, 103714, 109496, 109496, 114632, 114632, 119768, 119768, 124904, 124904, 130040, 130040, 135176, 135789, 141546, 141546, 147303, 147303, 153060, 153060, 158817, 158817, 164574, 164574, 171581, 171581, 177957, 177957, 184333, 184333, 190709, 190709, 197085, 197085, 203461, 204056, 211037, 211037, 218018, 218018, 224999, 224999, 231980, 231980, 238961, 238961, 247136, 247136, 254699, 254699, 262262, 262262, 269825, 269825, 277388, 277388, 284951, 285583, 293774, 293774, 301965, 301965, 310156, 310156, 318347, 318347, 326538, 326538, 336206, 336206, 345150, 345150, 354094, 354094, 363038, 363038, 371982, 371982, 380926, 381638, 391303, 391303, 400968, 400968, 410633, 410633, 420298, 420298, 429963, 429963, 440939, 440939, 451256, 451256, 461573, 461573, 471890, 471890, 482207, 482207, 492524, 493235, 504265, 504265, 515295, 515295, 526325, 526325, 537355, 537355, 548385, 548385, 560571, 560571, 572178, 572178, 583785, 583785, 595392, 595392, 606999, 606999, 618606, 619288, 631561, 631561, 643834, 643834, 656107, 656107, 668380, 668380, 680653, 680653, 694033, 694033, 706834, 706834, 719635, 719635, 732436, 732436, 745237, 745237, 758038, 758728, 772290, 772290, 785852, 785852, 799414, 799414, 812976, 812976, 826538, 826538, 841335, 841335, 855515, 855515, 869695, 869695, 883875, 883875, 898055, 898055, 912235, 912807, 927546, 927546, 942285, 942285, 957024, 957024, 971763, 971763, 986502, 986502, 1002473, 1002473, 1017827, 1017827, 1033181, 1033181, 1048535, 1048535, 1063889, 1063889, 1079243]\n",
            "[323, 323, 456, 456, 589, 589, 722, 722, 2090, 2090, 2864, 2864, 3638, 3638, 4412, 4412, 6386, 6386, 7763, 7763, 9140, 9140, 10517, 10517, 13244, 13244, 15293, 15293, 17342, 17342, 19391, 19391, 22656, 22656, 25296, 25296, 27936, 27936, 30576, 30576, 34491, 34491, 37780, 37780, 41069, 41069, 44358, 44358, 48841, 48841, 52732, 52732, 56623, 56623, 60514, 60514, 65698, 65698, 70234, 70234, 74770, 74770, 79306, 79306, 85120, 85120, 90293, 90293, 95466, 95466, 100639, 100639, 107059, 107059, 112860, 112860, 118661, 118661, 124462, 124462, 131498, 131498, 137917, 137917, 144336, 144336, 150755, 150755, 158377, 158377, 165392, 165392, 172407, 172407, 179422, 179422, 187720, 187720, 195382, 195382, 203044, 203044, 210706, 210706, 219572, 219572, 227832, 227832, 236092, 236092, 244352, 244352, 254065, 254065, 263042, 263042, 272019, 272019, 280996, 280996, 291394, 291394, 301098, 301098, 310802, 310802, 320506, 320506, 331514, 331514, 341866, 341866, 352218, 352218, 362570, 362570, 374363, 374363, 385439, 385439, 396515, 396515, 407591, 407591, 419789, 419789, 431415, 431415, 443041, 443041, 454667, 454667, 467643, 467643, 479943, 479943, 492243, 492243, 504543, 504543, 518069, 518069, 530993, 530993, 543917, 543917, 556841, 556841, 571134, 571134, 584737, 584737, 598340, 598340, 611943, 611943, 626747, 626747, 640939, 640939, 655131, 655131, 669323, 669323, 684670, 684670, 699440, 699440, 714210, 714210, 728980, 728980, 744992, 744992, 760398, 760398, 775804, 775804, 791210, 791210]\n",
            "[458, 458, 684, 684, 910, 910, 1136, 1136, 1362, 1362, 1588, 1588, 1814, 1814, 2040, 2040, 2266, 2266, 2492, 3107, 3922, 3922, 4737, 4737, 5552, 5552, 6367, 6367, 7182, 7182, 7997, 7997, 8812, 8812, 9627, 9627, 10442, 10442, 12440, 12440, 13860, 13860, 15280, 15280, 16700, 16700, 18120, 18120, 19540, 19540, 20960, 20960, 22380, 22380, 23800, 23800, 25220, 25897, 27965, 27965, 30033, 30033, 32101, 32101, 34169, 34169, 36237, 36237, 38305, 38305, 40373, 40373, 42441, 42441, 44509, 44509, 47886, 47886, 50622, 50622, 53358, 53358, 56094, 56094, 58830, 58830, 61566, 61566, 64302, 64302, 67038, 67038, 69774, 69774, 72510, 73103, 76421, 76421, 79739, 79739, 83057, 83057, 86375, 86375, 89693, 89693, 93011, 93011, 96329, 96329, 99647, 99647, 102965, 102965, 107494, 107494, 111410, 111410, 115326, 115326, 119242, 119242, 123158, 123158, 127074, 127074, 130990, 130990, 134906, 134906, 138822, 138822, 142738, 143393, 147995, 147995, 152597, 152597, 157199, 157199, 161801, 161801, 166403, 166403, 171005, 171005, 175607, 175607, 180209, 180209, 184811, 184811, 190663, 190663, 195890, 195890, 201117, 201117, 206344, 206344, 211571, 211571, 216798, 216798, 222025, 222025, 227252, 227252, 232479, 232479, 237706, 238343, 244198, 244198, 250053, 250053, 255908, 255908, 261763, 261763, 267618, 267618, 273473, 273473, 279328, 279328, 285183, 285183, 291038, 291038, 298108, 298108, 304573, 304573, 311038, 311038, 317503, 317503, 323968, 323968, 330433, 330433, 336898, 336898, 343363, 343363, 349828, 349828, 356293, 356878, 363916, 363916, 370954, 370954, 377992, 377992, 385030, 385030, 392068, 392068, 399106, 399106, 406144, 406144, 413182, 413182, 420220, 420220, 428604, 428604, 436320, 436320, 444036, 444036, 451752, 451752, 459468, 459468, 467184, 467184, 474900, 474900, 482616, 482616, 490332, 490332, 498048, 498653, 506974, 506974, 515295, 515295, 523616, 523616, 531937, 531937, 540258, 540258, 548579, 548579, 556900, 556900, 565221, 565221, 573542, 573542, 583315, 583315, 592362, 592362, 601409, 601409, 610456, 610456, 619503, 619503, 628550, 628550, 637597, 637597, 646644, 646644, 655691, 655691, 664738, 665437, 675178, 675178, 684919, 684919, 694660, 694660, 704401, 704401, 714142, 714142, 723883, 723883, 733624, 733624, 743365, 743365, 753106, 753106, 764178, 764178, 774578, 774578, 784978, 784978, 795378, 795378, 805778, 805778, 816178, 816178, 826578, 826578, 836978, 836978, 847378, 847378, 857778, 858484, 869606, 869606, 880728, 880728, 891850, 891850, 902972, 902972, 914094, 914094, 925216, 925216, 936338, 936338, 947460, 947460, 958582, 958582, 970824, 970824, 982489, 982489, 994154, 994154, 1005819, 1005819, 1017484, 1017484, 1029149, 1029149, 1040814, 1040814, 1052479, 1052479, 1064144, 1064144, 1075809, 1076466, 1088829, 1088829, 1101192, 1101192, 1113555, 1113555, 1125918, 1125918, 1138281, 1138281, 1150644, 1150644, 1163007, 1163007, 1175370, 1175370, 1187733, 1187733, 1201348, 1201348, 1214334, 1214334, 1227320, 1227320, 1240306, 1240306, 1253292, 1253292, 1266278, 1266278, 1279264, 1279264, 1292250, 1292250, 1305236, 1305236, 1318222, 1318894, 1332556, 1332556, 1346218, 1346218, 1359880, 1359880, 1373542, 1373542, 1387204, 1387204, 1400866, 1400866, 1414528, 1414528, 1428190, 1428190, 1441852, 1441852, 1456737, 1456737, 1471007, 1471007, 1485277, 1485277, 1499547, 1499547, 1513817, 1513817, 1528087, 1528087, 1542357, 1542357, 1556627, 1556627, 1570897, 1570897, 1585167, 1585758, 1600625, 1600625, 1615492, 1615492, 1630359, 1630359, 1645226, 1645226, 1660093, 1660093, 1674960, 1674960, 1689827, 1689827, 1704694, 1704694, 1719561, 1719561, 1735601, 1735601, 1751055, 1751055, 1766509, 1766509, 1781963, 1781963, 1797417, 1797417, 1812871, 1812871, 1828325, 1828325, 1843779, 1843779, 1859233, 1859233, 1874687]\n",
            "[551, 551, 816, 816, 1081, 1081, 1346, 1346, 1611, 1611, 1876, 1876, 2141, 2141, 2406, 2406, 2671, 2671, 4121, 4121, 4975, 4975, 5829, 5829, 6683, 6683, 7537, 7537, 8391, 8391, 9245, 9245, 10099, 10099, 10953, 10953, 12996, 12996, 14447, 14447, 15898, 15898, 17349, 17349, 18800, 18800, 20251, 20251, 21702, 21702, 23153, 23153, 24604, 24604, 27383, 27383, 29494, 29494, 31605, 31605, 33716, 33716, 35827, 35827, 37938, 37938, 40049, 40049, 42160, 42160, 44271, 44271, 47694, 47694, 50474, 50474, 53254, 53254, 56034, 56034, 58814, 58814, 61594, 61594, 64374, 64374, 67154, 67154, 69934, 69934, 73917, 73917, 77294, 77294, 80671, 80671, 84048, 84048, 87425, 87425, 90802, 90802, 94179, 94179, 97556, 97556, 100933, 100933, 105561, 105561, 109548, 109548, 113535, 113535, 117522, 117522, 121509, 121509, 125496, 125496, 129483, 129483, 133470, 133470, 137457, 137457, 142693, 142693, 147318, 147318, 151943, 151943, 156568, 156568, 161193, 161193, 165818, 165818, 170443, 170443, 175068, 175068, 179693, 179693, 185603, 185603, 190878, 190878, 196153, 196153, 201428, 201428, 206703, 206703, 211978, 211978, 217253, 217253, 222528, 222528, 227803, 227803, 234331, 234331, 240233, 240233, 246135, 246135, 252037, 252037, 257939, 257939, 263841, 263841, 269743, 269743, 275645, 275645, 281547, 281547, 288636, 288636, 295120, 295120, 301604, 301604, 308088, 308088, 314572, 314572, 321056, 321056, 327540, 327540, 334024, 334024, 340508, 340508, 348175, 348175, 355253, 355253, 362331, 362331, 369409, 369409, 376487, 376487, 383565, 383565, 390643, 390643, 397721, 397721, 404799, 404799, 413253, 413253, 421021, 421021, 428789, 428789, 436557, 436557, 444325, 444325, 452093, 452093, 459861, 459861, 467629, 467629, 475397, 475397, 484374, 484374, 492749, 492749, 501124, 501124, 509499, 509499, 517874, 517874, 526249, 526249, 534624, 534624, 542999, 542999, 551374, 551374, 561221, 561221, 570333, 570333, 579445, 579445, 588557, 588557, 597669, 597669, 606781, 606781, 615893, 615893, 625005, 625005, 634117, 634117, 644622, 644622, 654432, 654432, 664242, 664242, 674052, 674052, 683862, 683862, 693672, 693672, 703482, 703482, 713292, 713292, 723102, 723102, 734253, 734253, 744730, 744730, 755207, 755207, 765684, 765684, 776161, 776161, 786638, 786638, 797115, 797115, 807592, 807592, 818069, 818069, 829971, 829971, 841166, 841166, 852361, 852361, 863556, 863556, 874751, 874751, 885946, 885946, 897141, 897141, 908336, 908336, 919531, 919531, 931876, 931876, 943640, 943640, 955404, 955404, 967168, 967168, 978932, 978932, 990696, 990696, 1002460, 1002460, 1014224, 1014224, 1025988, 1025988, 1038988, 1038988, 1051375, 1051375, 1063762, 1063762, 1076149, 1076149, 1088536, 1088536, 1100923, 1100923, 1113310, 1113310, 1125697, 1125697, 1138084, 1138084, 1151798, 1151798, 1164849, 1164849, 1177900, 1177900, 1190951, 1190951, 1204002, 1204002, 1217053, 1217053, 1230104, 1230104, 1243155, 1243155, 1256206, 1256206, 1270576, 1270576, 1284278, 1284278, 1297980, 1297980, 1311682, 1311682, 1325384, 1325384, 1339086, 1339086, 1352788, 1352788, 1366490, 1366490, 1380192, 1380192, 1395129, 1395129, 1409449, 1409449, 1423769, 1423769, 1438089, 1438089, 1452409, 1452409, 1466729, 1466729, 1481049, 1481049, 1495369, 1495369, 1509689, 1509689, 1525190, 1525190, 1540107, 1540107, 1555024, 1555024, 1569941, 1569941, 1584858, 1584858, 1599775, 1599775, 1614692, 1614692, 1629609, 1629609, 1644526, 1644526, 1660698, 1660698, 1676244, 1676244, 1691790, 1691790, 1707336, 1707336, 1722882, 1722882, 1738428, 1738428, 1753974, 1753974, 1769520, 1769520, 1785066, 1785066]\n",
            "[633, 633, 934, 934, 1235, 1235, 1536, 1536, 1837, 1837, 2138, 2138, 2439, 2439, 2740, 2740, 3041, 3638, 4525, 4525, 5412, 5412, 6299, 6299, 7186, 7186, 8073, 8073, 8960, 8960, 9847, 9847, 10734, 10734, 12851, 12851, 14371, 14371, 15891, 15891, 17411, 17411, 18931, 18931, 20451, 20451, 21971, 21971, 23491, 23491, 25011, 25688, 27846, 27846, 30004, 30004, 32162, 32162, 34320, 34320, 36478, 36478, 38636, 38636, 40794, 40794, 42952, 42952, 46397, 46397, 49204, 49204, 52011, 52011, 54818, 54818, 57625, 57625, 60432, 60432, 63239, 63239, 66046, 66046, 68853, 69443, 72814, 72814, 76185, 76185, 79556, 79556, 82927, 82927, 86298, 86298, 89669, 89669, 93040, 93040, 96411, 96411, 101172, 101172, 105267, 105267, 109362, 109362, 113457, 113457, 117552, 117552, 121647, 121647, 125742, 125742, 129837, 129837, 133932, 134529, 139211, 139211, 143893, 143893, 148575, 148575, 153257, 153257, 157939, 157939, 162621, 162621, 167303, 167303, 171985, 171985, 177916, 177916, 183214, 183214, 188512, 188512, 193810, 193810, 199108, 199108, 204406, 204406, 209704, 209704, 215002, 215002, 220300, 220937, 226878, 226878, 232819, 232819, 238760, 238760, 244701, 244701, 250642, 250642, 256583, 256583, 262524, 262524, 268465, 268465, 275635, 275635, 282199, 282199, 288763, 288763, 295327, 295327, 301891, 301891, 308455, 308455, 315019, 315019, 321583, 321583, 328147, 328735, 335885, 335885, 343035, 343035, 350185, 350185, 357335, 357335, 364485, 364485, 371635, 371635, 378785, 378785, 385935, 385935, 394459, 394459, 402298, 402298, 410137, 410137, 417976, 417976, 425815, 425815, 433654, 433654, 441493, 441493, 449332, 449332, 457171, 457774, 466218, 466218, 474662, 474662, 483106, 483106, 491550, 491550, 499994, 499994, 508438, 508438, 516882, 516882, 525326, 525326, 535242, 535242, 544420, 544420, 553598, 553598, 562776, 562776, 571954, 571954, 581132, 581132, 590310, 590310, 599488, 599488, 608666, 609357, 619201, 619201, 629045, 629045, 638889, 638889, 648733, 648733, 658577, 658577, 668421, 668421, 678265, 678265, 688109, 688109, 699297, 699297, 709813, 709813, 720329, 720329, 730845, 730845, 741361, 741361, 751877, 751877, 762393, 762393, 772909, 772909, 783425, 784124, 795363, 795363, 806602, 806602, 817841, 817841, 829080, 829080, 840319, 840319, 851558, 851558, 862797, 862797, 874036, 874036, 886470, 886470, 898308, 898308, 910146, 910146, 921984, 921984, 933822, 933822, 945660, 945660, 957498, 957498, 969336, 969336, 981174, 981777, 994210, 994210, 1006643, 1006643, 1019076, 1019076, 1031509, 1031509, 1043942, 1043942, 1056375, 1056375, 1068808, 1068808, 1081241, 1081241, 1095052, 1095052, 1108176, 1108176, 1121300, 1121300, 1134424, 1134424, 1147548, 1147548, 1160672, 1160672, 1173796, 1173796, 1186920, 1186920, 1200044, 1200686, 1214413, 1214413, 1228140, 1228140, 1241867, 1241867, 1255594, 1255594, 1269321, 1269321, 1283048, 1283048, 1296775, 1296775, 1310502, 1310502, 1325469, 1325469, 1339809, 1339809, 1354149, 1354149, 1368489, 1368489, 1382829, 1382829, 1397169, 1397169, 1411509, 1411509, 1425849, 1425849, 1440189, 1440765, 1455738, 1455738, 1470711, 1470711, 1485684, 1485684, 1500657, 1500657, 1515630, 1515630, 1530603, 1530603, 1545576, 1545576, 1560549, 1560549, 1576750, 1576750, 1592337, 1592337, 1607924, 1607924, 1623511, 1623511, 1639098, 1639098, 1654685, 1654685, 1670272, 1670272, 1685859, 1685859, 1701446]\n",
            "[700, 700, 1028, 1028, 1356, 1356, 1684, 1684, 2012, 2012, 2340, 2340, 2668, 2668, 2996, 2996, 3324, 3324, 3652, 3652, 3980, 3980, 5526, 5526, 6462, 6462, 7398, 7398, 8334, 8334, 9270, 9270, 10206, 10206, 11142, 11142, 12078, 12078, 13014, 13014, 13950, 13950, 14886, 14886, 17078, 17078, 18657, 18657, 20236, 20236, 21815, 21815, 23394, 23394, 24973, 24973, 26552, 26552, 28131, 28131, 29710, 29710, 31289, 31289, 32868, 32868, 35786, 35786, 38040, 38040, 40294, 40294, 42548, 42548, 44802, 44802, 47056, 47056, 49310, 49310, 51564, 51564, 53818, 53818, 56072, 56072, 58326, 58326, 61815, 61815, 64669, 64669, 67523, 67523, 70377, 70377, 73231, 73231, 76085, 76085, 78939, 78939, 81793, 81793, 84647, 84647, 87501, 87501, 90355, 90355, 94403, 94403, 97871, 97871, 101339, 101339, 104807, 104807, 108275, 108275, 111743, 111743, 115211, 115211, 118679, 118679, 122147, 122147, 125615, 125615, 129083, 129083, 133855, 133855, 137959, 137959, 142063, 142063, 146167, 146167, 150271, 150271, 154375, 154375, 158479, 158479, 162583, 162583, 166687, 166687, 170791, 170791, 174895, 174895, 180234, 180234, 184972, 184972, 189710, 189710, 194448, 194448, 199186, 199186, 203924, 203924, 208662, 208662, 213400, 213400, 218138, 218138, 222876, 222876, 227614, 227614, 233602, 233602, 238963, 238963, 244324, 244324, 249685, 249685, 255046, 255046, 260407, 260407, 265768, 265768, 271129, 271129, 276490, 276490, 281851, 281851, 287212, 287212, 293863, 293863, 299867, 299867, 305871, 305871, 311875, 311875, 317879, 317879, 323883, 323883, 329887, 329887, 335891, 335891, 341895, 341895, 347899, 347899, 353903, 353903, 361128, 361128, 367748, 367748, 374368, 374368, 380988, 380988, 387608, 387608, 394228, 394228, 400848, 400848, 407468, 407468, 414088, 414088, 420708, 420708, 427328, 427328, 435107, 435107, 442292, 442292, 449477, 449477, 456662, 456662, 463847, 463847, 471032, 471032, 478217, 478217, 485402, 485402, 492587, 492587, 499772, 499772, 506957, 506957, 515539, 515539, 523435, 523435, 531331, 531331, 539227, 539227, 547123, 547123, 555019, 555019, 562915, 562915, 570811, 570811, 578707, 578707, 586603, 586603, 594499, 594499, 603564, 603564, 612028, 612028, 620492, 620492, 628956, 628956, 637420, 637420, 645884, 645884, 654348, 654348, 662812, 662812, 671276, 671276, 679740, 679740, 688204, 688204, 698140, 698140, 707348, 707348, 716556, 716556, 725764, 725764, 734972, 734972, 744180, 744180, 753388, 753388, 762596, 762596, 771804, 771804, 781012, 781012, 790220, 790220, 800811, 800811, 810717, 810717, 820623, 820623, 830529, 830529, 840435, 840435, 850341, 850341, 860247, 860247, 870153, 870153, 880059, 880059, 889965, 889965, 899871, 899871, 911187, 911187, 921791, 921791, 932395, 932395, 942999, 942999, 953603, 953603, 964207, 964207, 974811, 974811, 985415, 985415, 996019, 996019, 1006623, 1006623, 1017227, 1017227, 1029140, 1029140, 1040389, 1040389, 1051638, 1051638, 1062887, 1062887, 1074136, 1074136, 1085385, 1085385, 1096634, 1096634, 1107883, 1107883, 1119132, 1119132, 1130381, 1130381, 1141630, 1141630, 1154124, 1154124, 1166013, 1166013, 1177902, 1177902, 1189791, 1189791, 1201680, 1201680, 1213569, 1213569, 1225458, 1225458, 1237347, 1237347, 1249236, 1249236, 1261125, 1261125, 1273014, 1273014, 1286079, 1286079, 1298552, 1298552, 1311025, 1311025, 1323498, 1323498, 1335971, 1335971, 1348444, 1348444, 1360917, 1360917, 1373390, 1373390, 1385863, 1385863, 1398336, 1398336, 1410809, 1410809, 1424726, 1424726, 1437926, 1437926, 1451126, 1451126, 1464326, 1464326, 1477526, 1477526, 1490726, 1490726, 1503926, 1503926, 1517126, 1517126, 1530326, 1530326, 1543526, 1543526, 1556726, 1556726, 1571177, 1571177, 1584997, 1584997, 1598817, 1598817, 1612637, 1612637, 1626457, 1626457, 1640277, 1640277, 1654097, 1654097, 1667917, 1667917, 1681737, 1681737, 1695557, 1695557, 1709377, 1709377, 1724423, 1724423, 1738857, 1738857, 1753291, 1753291, 1767725, 1767725, 1782159, 1782159, 1796593, 1796593, 1811027, 1811027, 1825461, 1825461, 1839895, 1839895, 1854329, 1854329, 1868763, 1868763, 1884346, 1884346, 1899358, 1899358, 1914370, 1914370, 1929382, 1929382, 1944394, 1944394, 1959406, 1959406, 1974418, 1974418, 1989430, 1989430, 2004442, 2004442, 2019454, 2019454, 2034466, 2034466, 2050717, 2050717, 2066350, 2066350, 2081983, 2081983, 2097616, 2097616, 2113249, 2113249, 2128882, 2128882, 2144515, 2144515, 2160148, 2160148, 2175781, 2175781, 2191414, 2191414, 2207047, 2207047]\n",
            "[786, 786, 1167, 1167, 1548, 1548, 1929, 1929, 2310, 2310, 2691, 2691, 3072, 3072, 3453, 3453, 3834, 3834, 4215, 4215, 4596, 4596, 4977, 5588, 6593, 6593, 7598, 7598, 8603, 8603, 9608, 9608, 10613, 10613, 11618, 11618, 12623, 12623, 13628, 13628, 14633, 14633, 15638, 15638, 16643, 16643, 18884, 18884, 20489, 20489, 22094, 22094, 23699, 23699, 25304, 25304, 26909, 26909, 28514, 28514, 30119, 30119, 31724, 31724, 33329, 33329, 34934, 34934, 36539, 37200, 39498, 39498, 41796, 41796, 44094, 44094, 46392, 46392, 48690, 48690, 50988, 50988, 53286, 53286, 55584, 55584, 57882, 57882, 60180, 60180, 62478, 62478, 66025, 66025, 68941, 68941, 71857, 71857, 74773, 74773, 77689, 77689, 80605, 80605, 83521, 83521, 86437, 86437, 89353, 89353, 92269, 92269, 95185, 95185, 98101, 98690, 102218, 102218, 105746, 105746, 109274, 109274, 112802, 112802, 116330, 116330, 119858, 119858, 123386, 123386, 126914, 126914, 130442, 130442, 133970, 133970, 137498, 137498, 142378, 142378, 146583, 146583, 150788, 150788, 154993, 154993, 159198, 159198, 163403, 163403, 167608, 167608, 171813, 171813, 176018, 176018, 180223, 180223, 184428, 184428, 188633, 189218, 194004, 194004, 198790, 198790, 203576, 203576, 208362, 208362, 213148, 213148, 217934, 217934, 222720, 222720, 227506, 227506, 232292, 232292, 237078, 237078, 241864, 241864, 247926, 247926, 253345, 253345, 258764, 258764, 264183, 264183, 269602, 269602, 275021, 275021, 280440, 280440, 285859, 285859, 291278, 291278, 296697, 296697, 302116, 302116, 307535, 308177, 314236, 314236, 320295, 320295, 326354, 326354, 332413, 332413, 338472, 338472, 344531, 344531, 350590, 350590, 356649, 356649, 362708, 362708, 368767, 368767, 374826, 374826, 382081, 382081, 388730, 388730, 395379, 395379, 402028, 402028, 408677, 408677, 415326, 415326, 421975, 421975, 428624, 428624, 435273, 435273, 441922, 441922, 448571, 448571, 455220, 455810, 463081, 463081, 470352, 470352, 477623, 477623, 484894, 484894, 492165, 492165, 499436, 499436, 506707, 506707, 513978, 513978, 521249, 521249, 528520, 528520, 535791, 535791, 544417, 544417, 552366, 552366, 560315, 560315, 568264, 568264, 576213, 576213, 584162, 584162, 592111, 592111, 600060, 600060, 608009, 608009, 615958, 615958, 623907, 623907, 631856, 632470, 641033, 641033, 649596, 649596, 658159, 658159, 666722, 666722, 675285, 675285, 683848, 683848, 692411, 692411, 700974, 700974, 709537, 709537, 718100, 718100, 726663, 726663, 736649, 736649, 745913, 745913, 755177, 755177, 764441, 764441, 773705, 773705, 782969, 782969, 792233, 792233, 801497, 801497, 810761, 810761, 820025, 820025, 829289, 829289, 838553, 839235, 849194, 849194, 859153, 859153, 869112, 869112, 879071, 879071, 889030, 889030, 898989, 898989, 908948, 908948, 918907, 918907, 928866, 928866, 938825, 938825, 948784, 948784, 960173, 960173, 970835, 970835, 981497, 981497, 992159, 992159, 1002821, 1002821, 1013483, 1013483, 1024145, 1024145, 1034807, 1034807, 1045469, 1045469, 1056131, 1056131, 1066793, 1066793, 1077455, 1078093, 1089414, 1089414, 1100735, 1100735, 1112056, 1112056, 1123377, 1123377, 1134698, 1134698, 1146019, 1146019, 1157340, 1157340, 1168661, 1168661, 1179982, 1179982, 1191303, 1191303, 1202624, 1202624, 1215228, 1215228, 1227187, 1227187, 1239146, 1239146, 1251105, 1251105, 1263064, 1263064, 1275023, 1275023, 1286982, 1286982, 1298941, 1298941, 1310900, 1310900, 1322859, 1322859, 1334818, 1334818, 1346777, 1347361, 1359916, 1359916, 1372471, 1372471, 1385026, 1385026, 1397581, 1397581, 1410136, 1410136, 1422691, 1422691, 1435246, 1435246, 1447801, 1447801, 1460356, 1460356, 1472911, 1472911, 1485466, 1485466, 1499413, 1499413, 1512666, 1512666, 1525919, 1525919, 1539172, 1539172, 1552425, 1552425, 1565678, 1565678, 1578931, 1578931, 1592184, 1592184, 1605437, 1605437, 1618690, 1618690, 1631943, 1631943, 1645196, 1645824, 1659697, 1659697, 1673570, 1673570, 1687443, 1687443, 1701316, 1701316, 1715189, 1715189, 1729062, 1729062, 1742935, 1742935, 1756808, 1756808, 1770681, 1770681, 1784554, 1784554, 1798427, 1798427, 1813505, 1813505, 1827973, 1827973, 1842441, 1842441, 1856909, 1856909, 1871377, 1871377, 1885845, 1885845, 1900313, 1900313, 1914781, 1914781, 1929249, 1929249, 1943717, 1943717, 1958185, 1958185, 1972653, 1973244, 1988319, 1988319, 2003394, 2003394, 2018469, 2018469, 2033544, 2033544, 2048619, 2048619, 2063694, 2063694, 2078769, 2078769, 2093844, 2093844, 2108919, 2108919, 2123994, 2123994, 2139069, 2139069, 2155382, 2155382, 2171077, 2171077, 2186772, 2186772, 2202467, 2202467, 2218162, 2218162, 2233857, 2233857, 2249552, 2249552, 2265247, 2265247, 2280942, 2280942, 2296637, 2296637, 2312332, 2312332, 2328027]\n",
            "[]\n",
            "[]\n",
            "[]\n",
            "[]\n",
            "[]\n"
          ]
        },
        {
          "output_type": "stream",
          "name": "stderr",
          "text": [
            "/usr/local/lib/python3.7/dist-packages/ipykernel_launcher.py:47: VisibleDeprecationWarning: Creating an ndarray from ragged nested sequences (which is a list-or-tuple of lists-or-tuples-or ndarrays with different lengths or shapes) is deprecated. If you meant to do this, you must specify 'dtype=object' when creating the ndarray\n",
            "/usr/local/lib/python3.7/dist-packages/ipykernel_launcher.py:50: DeprecationWarning: elementwise comparison failed; this will raise an error in the future.\n"
          ]
        },
        {
          "output_type": "error",
          "ename": "TypeError",
          "evalue": "ignored",
          "traceback": [
            "\u001b[0;31m---------------------------------------------------------------------------\u001b[0m",
            "\u001b[0;31mTypeError\u001b[0m                                 Traceback (most recent call last)",
            "\u001b[0;32m<ipython-input-193-f2b84369eff6>\u001b[0m in \u001b[0;36m<module>\u001b[0;34m()\u001b[0m\n\u001b[1;32m     58\u001b[0m   \u001b[0;32mfor\u001b[0m \u001b[0mj\u001b[0m \u001b[0;32min\u001b[0m \u001b[0mrange\u001b[0m\u001b[0;34m(\u001b[0m\u001b[0;36m15\u001b[0m\u001b[0;34m)\u001b[0m\u001b[0;34m:\u001b[0m\u001b[0;34m\u001b[0m\u001b[0;34m\u001b[0m\u001b[0m\n\u001b[1;32m     59\u001b[0m     \u001b[0mrows\u001b[0m\u001b[0;34m.\u001b[0m\u001b[0mappend\u001b[0m\u001b[0;34m(\u001b[0m\u001b[0mnew\u001b[0m\u001b[0;34m[\u001b[0m\u001b[0;34m:\u001b[0m\u001b[0;34m,\u001b[0m\u001b[0mj\u001b[0m\u001b[0;34m]\u001b[0m\u001b[0;34m)\u001b[0m\u001b[0;34m\u001b[0m\u001b[0;34m\u001b[0m\u001b[0m\n\u001b[0;32m---> 60\u001b[0;31m   \u001b[0mvals\u001b[0m \u001b[0;34m=\u001b[0m \u001b[0mget_waiting_time\u001b[0m\u001b[0;34m(\u001b[0m\u001b[0mrows\u001b[0m\u001b[0;34m)\u001b[0m\u001b[0;34m\u001b[0m\u001b[0;34m\u001b[0m\u001b[0m\n\u001b[0m\u001b[1;32m     61\u001b[0m   \u001b[0mprint\u001b[0m\u001b[0;34m(\u001b[0m\u001b[0mvals\u001b[0m\u001b[0;34m)\u001b[0m\u001b[0;34m\u001b[0m\u001b[0;34m\u001b[0m\u001b[0m\n",
            "\u001b[0;32m<ipython-input-193-f2b84369eff6>\u001b[0m in \u001b[0;36mget_waiting_time\u001b[0;34m(stop_queues)\u001b[0m\n\u001b[1;32m     49\u001b[0m   \u001b[0;31m# print(all_waits)\u001b[0m\u001b[0;34m\u001b[0m\u001b[0;34m\u001b[0m\u001b[0;34m\u001b[0m\u001b[0m\n\u001b[1;32m     50\u001b[0m   \u001b[0;32mif\u001b[0m \u001b[0mall_waits\u001b[0m \u001b[0;34m!=\u001b[0m \u001b[0;34m[\u001b[0m\u001b[0;34m]\u001b[0m\u001b[0;34m:\u001b[0m\u001b[0;34m\u001b[0m\u001b[0;34m\u001b[0m\u001b[0m\n\u001b[0;32m---> 51\u001b[0;31m     \u001b[0;32mreturn\u001b[0m \u001b[0mnp\u001b[0m\u001b[0;34m.\u001b[0m\u001b[0mmean\u001b[0m\u001b[0;34m(\u001b[0m\u001b[0mall_waits\u001b[0m\u001b[0;34m)\u001b[0m\u001b[0;34m\u001b[0m\u001b[0;34m\u001b[0m\u001b[0m\n\u001b[0m\u001b[1;32m     52\u001b[0m   \u001b[0;32melse\u001b[0m\u001b[0;34m:\u001b[0m\u001b[0;34m\u001b[0m\u001b[0;34m\u001b[0m\u001b[0m\n\u001b[1;32m     53\u001b[0m     \u001b[0;32mreturn\u001b[0m \u001b[0;36m0\u001b[0m\u001b[0;34m\u001b[0m\u001b[0;34m\u001b[0m\u001b[0m\n",
            "\u001b[0;32m<__array_function__ internals>\u001b[0m in \u001b[0;36mmean\u001b[0;34m(*args, **kwargs)\u001b[0m\n",
            "\u001b[0;32m/usr/local/lib/python3.7/dist-packages/numpy/core/fromnumeric.py\u001b[0m in \u001b[0;36mmean\u001b[0;34m(a, axis, dtype, out, keepdims)\u001b[0m\n\u001b[1;32m   3371\u001b[0m \u001b[0;34m\u001b[0m\u001b[0m\n\u001b[1;32m   3372\u001b[0m     return _methods._mean(a, axis=axis, dtype=dtype,\n\u001b[0;32m-> 3373\u001b[0;31m                           out=out, **kwargs)\n\u001b[0m\u001b[1;32m   3374\u001b[0m \u001b[0;34m\u001b[0m\u001b[0m\n\u001b[1;32m   3375\u001b[0m \u001b[0;34m\u001b[0m\u001b[0m\n",
            "\u001b[0;32m/usr/local/lib/python3.7/dist-packages/numpy/core/_methods.py\u001b[0m in \u001b[0;36m_mean\u001b[0;34m(a, axis, dtype, out, keepdims)\u001b[0m\n\u001b[1;32m    170\u001b[0m             \u001b[0mret\u001b[0m \u001b[0;34m=\u001b[0m \u001b[0mret\u001b[0m\u001b[0;34m.\u001b[0m\u001b[0mdtype\u001b[0m\u001b[0;34m.\u001b[0m\u001b[0mtype\u001b[0m\u001b[0;34m(\u001b[0m\u001b[0mret\u001b[0m \u001b[0;34m/\u001b[0m \u001b[0mrcount\u001b[0m\u001b[0;34m)\u001b[0m\u001b[0;34m\u001b[0m\u001b[0;34m\u001b[0m\u001b[0m\n\u001b[1;32m    171\u001b[0m     \u001b[0;32melse\u001b[0m\u001b[0;34m:\u001b[0m\u001b[0;34m\u001b[0m\u001b[0;34m\u001b[0m\u001b[0m\n\u001b[0;32m--> 172\u001b[0;31m         \u001b[0mret\u001b[0m \u001b[0;34m=\u001b[0m \u001b[0mret\u001b[0m \u001b[0;34m/\u001b[0m \u001b[0mrcount\u001b[0m\u001b[0;34m\u001b[0m\u001b[0;34m\u001b[0m\u001b[0m\n\u001b[0m\u001b[1;32m    173\u001b[0m \u001b[0;34m\u001b[0m\u001b[0m\n\u001b[1;32m    174\u001b[0m     \u001b[0;32mreturn\u001b[0m \u001b[0mret\u001b[0m\u001b[0;34m\u001b[0m\u001b[0;34m\u001b[0m\u001b[0m\n",
            "\u001b[0;31mTypeError\u001b[0m: unsupported operand type(s) for /: 'list' and 'int'"
          ]
        }
      ]
    },
    {
      "cell_type": "code",
      "source": [
        "all_maxs = []\n",
        "for j in range(10):\n",
        "  maxs = []\n",
        "  for i in range(len(waits[j])):\n",
        "    maxs.append(max(waits[j][i]))\n",
        "  all_maxs.append([j,np.mean(maxs)])\n"
      ],
      "metadata": {
        "colab": {
          "base_uri": "https://localhost:8080/",
          "height": 234
        },
        "id": "bguwXQ6dFzqU",
        "outputId": "4c05c409-8e03-4209-e4b0-4d76a7f7aa63"
      },
      "execution_count": 194,
      "outputs": [
        {
          "output_type": "error",
          "ename": "IndexError",
          "evalue": "ignored",
          "traceback": [
            "\u001b[0;31m---------------------------------------------------------------------------\u001b[0m",
            "\u001b[0;31mIndexError\u001b[0m                                Traceback (most recent call last)",
            "\u001b[0;32m<ipython-input-194-82cb02d00de2>\u001b[0m in \u001b[0;36m<module>\u001b[0;34m()\u001b[0m\n\u001b[1;32m      3\u001b[0m \u001b[0;32mfor\u001b[0m \u001b[0mj\u001b[0m \u001b[0;32min\u001b[0m \u001b[0mrange\u001b[0m\u001b[0;34m(\u001b[0m\u001b[0;36m10\u001b[0m\u001b[0;34m)\u001b[0m\u001b[0;34m:\u001b[0m\u001b[0;34m\u001b[0m\u001b[0;34m\u001b[0m\u001b[0m\n\u001b[1;32m      4\u001b[0m   \u001b[0mmaxs\u001b[0m \u001b[0;34m=\u001b[0m \u001b[0;34m[\u001b[0m\u001b[0;34m]\u001b[0m\u001b[0;34m\u001b[0m\u001b[0;34m\u001b[0m\u001b[0m\n\u001b[0;32m----> 5\u001b[0;31m   \u001b[0;32mfor\u001b[0m \u001b[0mi\u001b[0m \u001b[0;32min\u001b[0m \u001b[0mrange\u001b[0m\u001b[0;34m(\u001b[0m\u001b[0mlen\u001b[0m\u001b[0;34m(\u001b[0m\u001b[0mwaits\u001b[0m\u001b[0;34m[\u001b[0m\u001b[0mj\u001b[0m\u001b[0;34m]\u001b[0m\u001b[0;34m)\u001b[0m\u001b[0;34m)\u001b[0m\u001b[0;34m:\u001b[0m\u001b[0;34m\u001b[0m\u001b[0;34m\u001b[0m\u001b[0m\n\u001b[0m\u001b[1;32m      6\u001b[0m     \u001b[0mmaxs\u001b[0m\u001b[0;34m.\u001b[0m\u001b[0mappend\u001b[0m\u001b[0;34m(\u001b[0m\u001b[0mmax\u001b[0m\u001b[0;34m(\u001b[0m\u001b[0mwaits\u001b[0m\u001b[0;34m[\u001b[0m\u001b[0mj\u001b[0m\u001b[0;34m]\u001b[0m\u001b[0;34m[\u001b[0m\u001b[0mi\u001b[0m\u001b[0;34m]\u001b[0m\u001b[0;34m)\u001b[0m\u001b[0;34m)\u001b[0m\u001b[0;34m\u001b[0m\u001b[0;34m\u001b[0m\u001b[0m\n\u001b[1;32m      7\u001b[0m   \u001b[0mall_maxs\u001b[0m\u001b[0;34m.\u001b[0m\u001b[0mappend\u001b[0m\u001b[0;34m(\u001b[0m\u001b[0;34m[\u001b[0m\u001b[0mj\u001b[0m\u001b[0;34m,\u001b[0m\u001b[0mnp\u001b[0m\u001b[0;34m.\u001b[0m\u001b[0mmean\u001b[0m\u001b[0;34m(\u001b[0m\u001b[0mmaxs\u001b[0m\u001b[0;34m)\u001b[0m\u001b[0;34m]\u001b[0m\u001b[0;34m)\u001b[0m\u001b[0;34m\u001b[0m\u001b[0;34m\u001b[0m\u001b[0m\n",
            "\u001b[0;31mIndexError\u001b[0m: list index out of range"
          ]
        }
      ]
    },
    {
      "cell_type": "code",
      "source": [
        "xs = [i[0] for i in all_maxs]\n",
        "ys = [i[1] for i in all_maxs]\n",
        "plt.plot(xs, ys)\n",
        "plt.title(\"Maximum number of people waiting in queue for each number of busses\")\n",
        "plt.xlabel('Number of busses')\n",
        "plt.ylabel('Maximum number of people waiting in queue at once')\n",
        "plt.grid()\n",
        "plt.show()"
      ],
      "metadata": {
        "colab": {
          "base_uri": "https://localhost:8080/",
          "height": 304
        },
        "id": "WNT0ONKsYuEn",
        "outputId": "bd6e4590-236b-456b-844a-b904ff76760c"
      },
      "execution_count": 189,
      "outputs": [
        {
          "output_type": "display_data",
          "data": {
            "image/png": "[encoded data removed]",
            "text/plain": [
              "<Figure size 432x288 with 1 Axes>"
            ]
          },
          "metadata": {
            "needs_background": "light"
          }
        }
      ]
    },
    {
      "cell_type": "markdown",
      "source": [
        "# Results\n",
        "\n",
        "After doing some initial experimentation the results are as following. The number of busses required is between 4 and 5. Up to 500 people can be waiting in queue if only 1 bus is deployed which is a sign of major inefficiency. The average total number of people wating:  163.20, at all times. I struggled really hard with the code for average wait time but I could not crack it. I have left the failed code above but I figured out that the way to do it would be to create a separate Passenger class within the code and use that to track time metrics. Unfortunately I had already taken an extension trying to do this, so did not think it was worthwhile taking another to do. "
      ],
      "metadata": {
        "id": "DN_8bwONd4JM"
      }
    },
    {
      "cell_type": "code",
      "source": [
        ""
      ],
      "metadata": {
        "id": "WTShjigh0vqC"
      },
      "execution_count": null,
      "outputs": []
    }
  ]
}