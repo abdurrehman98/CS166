{
  "nbformat": 4,
  "nbformat_minor": 0,
  "metadata": {
    "colab": {
      "name": "FinalProj.ipynb",
      "provenance": [],
      "collapsed_sections": []
    },
    "kernelspec": {
      "name": "python3",
      "display_name": "Python 3"
    },
    "language_info": {
      "name": "python"
    }
  },
  "cells": [
    {
      "cell_type": "code",
      "execution_count": 1,
      "metadata": {
        "id": "Te89A80uXgM3"
      },
      "outputs": [],
      "source": [
        "# import relevant libraries for simulation\n",
        "import matplotlib.pyplot as plt\n",
        "from random import randint\n",
        "import scipy.stats as st\n",
        "import networkx as nx\n",
        "import numpy as np\n",
        "import random\n",
        "import heapq"
      ]
    },
    {
      "cell_type": "code",
      "source": [
        "class Event:\n",
        "    '''\n",
        "    Class for creating and handling events\n",
        "    '''\n",
        "    def __init__(self, timestamp, function, *args, **kwargs):\n",
        "\n",
        "        # variables for the timestamp of the event\n",
        "        self.timestamp = timestamp\n",
        "        self.function = function\n",
        "        self.args = args\n",
        "        self.kwargs = kwargs\n",
        "\n",
        "    def __lt__(self, other):\n",
        "        \n",
        "        '''\n",
        "        Determining the time-based event schedule\n",
        "        '''\n",
        "        \n",
        "        # determines boolean value to have an event set\n",
        "        return self.timestamp < other.timestamp\n",
        "\n",
        "    def run(self, schedule):\n",
        "        '''\n",
        "        To run the event given the parameters \n",
        "        '''\n",
        "        # runs the function with params passed\n",
        "        self.function(schedule, *self.args, **self.kwargs)\n",
        "\n",
        "\n",
        "class Schedule:\n",
        "    '''\n",
        "    Class handling the schedule of the events\n",
        "    '''\n",
        "    \n",
        "    def __init__(self):\n",
        "        \n",
        "        # current time\n",
        "        self.now = 0\n",
        "        # creating our priority queue\n",
        "        self.priority_queue = []  \n",
        "    \n",
        "    def add_event_at(self, timestamp, function, *args, **kwargs):\n",
        "        # add event and push to the queue of events\n",
        "        heapq.heappush(self.priority_queue, Event(timestamp, function, *args, **kwargs))\n",
        "    \n",
        "    def add_event_after(self, interval, function, *args, **kwargs):\n",
        "        \n",
        "        # adding the subsequent event\n",
        "        self.add_event_at(self.now + interval, function, *args, **kwargs)\n",
        "    \n",
        "    def next_event_time(self):\n",
        "        \n",
        "        # next event in the queue\n",
        "        return self.priority_queue[0].timestamp\n",
        " \n",
        "    def run_next_event(self):\n",
        "        \n",
        "        # running the following event\n",
        "        event = heapq.heappop(self.priority_queue)\n",
        "        self.now = event.timestamp\n",
        "        event.run(self)\n",
        "        \n",
        "    def __repr__(self):\n",
        "        return "
      ],
      "metadata": {
        "id": "tSVuOgL1e-KB"
      },
      "execution_count": 3,
      "outputs": []
    },
    {
      "cell_type": "code",
      "source": [
        "def create_NCR():\n",
        "    \"\"\"\n",
        "    This function creates the NCR set-up to a network structure. \n",
        "    It returns the network with the respectively connected nodes \n",
        "    \"\"\"\n",
        "\n",
        "    NCR = nx.Graph() \n",
        "\n",
        "    NCR.add_edge(\"Powell\", \"Union Sq\", weight = 3)\n",
        "    NCR.add_edge(\"Powell\", \"Civic Center\", weight = 3)\n",
        "    NCR.add_edge(\"Powell\", \"Embarcadero\", weight = 5)\n",
        "    NCR.add_edge(\"Powell\", \"Soma\", weight = 4)\n",
        "\n",
        "    NCR.add_edge(\"Union Sq\", \"Lower Nob Hill\", weight = 4)\n",
        "    NCR.add_edge(\"Union Sq\", \"North Beach\", weight = 3)\n",
        "\n",
        "    NCR.add_edge(\"Civic Center\", \"Van Ness\", weight = 3)\n",
        "    NCR.add_edge(\"Civic Center\", \"Lower Nob Hill\", weight = 3)\n",
        "\n",
        "    NCR.add_edge(\"Lower Nob Hill\", \"Russian Hill\", weight = 2) \n",
        "    NCR.add_edge(\"Lower Nob Hill\", \"Van Ness\", weight = 2.5) \n",
        "\n",
        "    NCR.add_edge(\"Embarcadero\", \"North Beach\", weight = 3.5)\n",
        "    NCR.add_edge(\"Embarcadero\", \"Soma\", weight = 2)\n",
        "    \n",
        "\n",
        "    NCR.add_edge(\"North Beach\", \"Russian Hill\", weight = 2)\n",
        "\n",
        "    NCR.add_edge(\"Van Ness\", \"Mission\", weight = 3)\n",
        "    NCR.add_edge(\"Van Ness\", \"Soma\", weight = 1.5) \n",
        "\n",
        "    \n",
        "    # Scaling to 20 for better interpretation in graphing and timing \n",
        "    # We are going to deal with minutes here \n",
        "    for u,v,d in NCR.edges(data = True):\n",
        "        d['weight'] *= 20\n",
        "\n",
        "    return NCR "
      ],
      "metadata": {
        "id": "75FrzAfIXwYX"
      },
      "execution_count": 4,
      "outputs": []
    },
    {
      "cell_type": "code",
      "source": [
        "NCR = create_NCR()\n",
        "pos = nx.kamada_kawai_layout(NCR)"
      ],
      "metadata": {
        "id": "tUVrY4ZraDq4"
      },
      "execution_count": 5,
      "outputs": []
    },
    {
      "cell_type": "code",
      "source": [
        "print(\"NCR Layout overview\")\n",
        "nx.draw(NCR, pos = pos, with_labels = True, node_color = 'lightgreen', node_size = 1000)"
      ],
      "metadata": {
        "colab": {
          "base_uri": "https://localhost:8080/",
          "height": 336
        },
        "id": "pNvfiki8aGSZ",
        "outputId": "bd64c19e-8e56-437b-ee61-26d84c7501b1"
      },
      "execution_count": 6,
      "outputs": [
        {
          "output_type": "stream",
          "name": "stdout",
          "text": [
            "NCR Layout overview\n"
          ]
        },
        {
          "output_type": "display_data",
          "data": {
            "text/plain": [
              "<Figure size 432x288 with 1 Axes>"
            ],
            "image/png": "[encoded data removed]"
          },
          "metadata": {}
        }
      ]
    },
    {
      "cell_type": "code",
      "source": [
        "print(\"Network stats:\")\n",
        "print(\"----\")\n",
        "print('Edges:', len(NCR.edges()))\n",
        "print(\"Nodes:\", len(NCR.nodes()))"
      ],
      "metadata": {
        "colab": {
          "base_uri": "https://localhost:8080/"
        },
        "id": "KmEfJy50aItm",
        "outputId": "5dbd3e65-9836-44ba-e4d1-9be4ca3b0ce9"
      },
      "execution_count": 7,
      "outputs": [
        {
          "output_type": "stream",
          "name": "stdout",
          "text": [
            "Network stats:\n",
            "----\n",
            "Edges: 15\n",
            "Nodes: 10\n"
          ]
        }
      ]
    },
    {
      "cell_type": "code",
      "source": [
        "def find_weights(f_node, s_node):\n",
        "    \"\"\"\n",
        "    calculates the weights between first and last node\n",
        "    \"\"\"\n",
        "    # takes the weight to be from the assigned value of the nodes\n",
        "    return garbage_spots[f_node] + garbage_spots[s_node]\n",
        "\n",
        "def waste_production_rate(c_node):\n",
        "    \"\"\"\n",
        "    Defining waste as a function of the population\n",
        "    \"\"\"\n",
        "    # \n",
        "    waste_production = 0.3\n",
        "    \n",
        "    # waste produced related to population at nodes (increases/decreases based on population) \n",
        "    waste_produced = (node_population[c_node]/1000) * waste_production\n",
        "    \n",
        "    return 100/waste_produced\n",
        "\n",
        "def dump_location(network, no_sites):\n",
        "    \"\"\"    \n",
        "    Choosing a random drop off location\n",
        "    \"\"\"\n",
        "    distribution = {}    \n",
        "    nodes = list(network.nodes())    \n",
        "    for i in range(no_sites):\n",
        "        position = random.choice(nodes) # random choice\n",
        "        nodes.remove(position)\n",
        "        distribution[position] = True # establishes it as the dump\n",
        "    for i in range(len(nodes)):\n",
        "        position = random.choice(nodes)\n",
        "        nodes.remove(position)\n",
        "        distribution[position] = False #\n",
        "    return distribution"
      ],
      "metadata": {
        "id": "ug5BKukrepRW"
      },
      "execution_count": 2,
      "outputs": []
    },
    {
      "cell_type": "code",
      "source": [
        "class WasteSystem: \n",
        "    \"\"\"\n",
        "    The main class of our waste removal network\n",
        "    \"\"\"\n",
        "    \n",
        "    def __init__(self, network):\n",
        "\n",
        "        # Complete network\n",
        "        self.network = network \n",
        "        self.waste_collection_time = [] \n",
        "        self.waste_to_collect = 0\n",
        "        self.collection_time_prior = 30  # based on average time to get between two nodes in the system of SF\n",
        "        self.collection_time_std = 5     # Standard Deviation\n",
        "\n",
        "        # Fuel Aspect, total capacity is 90 gallons - as described by online sources\n",
        "        self.fuel = []\n",
        "        self.capacity = 90 \n",
        "\n",
        "        # introducing randomness to our MC simulation\n",
        "        self.additional_time_mean = 20\n",
        "        self.additional_time_std = 5\n",
        "        self.probabilistic_randomness = 70   # 50%, so half the time we need more time than usual\n",
        "\n",
        "        # the waste truck might have to drive to another farm\n",
        "        self.collection_sites = []\n",
        "        self.drop_off_site = []\n",
        "        self.drop_off_available = []\n",
        "\n",
        "        # checks if there is a site available for dumping\n",
        "        for existing_node in nodes_in_system.nodes():\n",
        "            if self.network.nodes[existing_node]['waste_truck']:\n",
        "                self.drop_off_site.append(existing_node)\n",
        "\n",
        "    def schedule_waste_collection(self, schedule, last_node):\n",
        "          \"\"\"\n",
        "          Determines the time for the next waste collection that is needed\n",
        "          \"\"\"\n",
        "          self.order_waste_collection(schedule, last_node)\n",
        "          schedule.add_event_after(np.random.normal(self.network.nodes[last_node][\"waste_rate\"], 2) + random.random(), self.schedule_waste_collection, last_node)\n",
        "\n",
        "    def order_waste_collection(self, schedule, last_node): \n",
        "        \"\"\"\n",
        "        Ordering the collection of waste and setting it up\n",
        "        \"\"\"\n",
        "\n",
        "      # check to see if there is a drop-off site available\n",
        "        if len(self.drop_off_site) != 0:\n",
        "            # sentinels\n",
        "            min_length = float(\"inf\")\n",
        "            min_length_site = None\n",
        "\n",
        "            for site in self.drop_off_site:\n",
        "                length = nx.shortest_path_length(self.network, source = site, \n",
        "                                                 target = last_node, \n",
        "                                                 weight = 'weight')\n",
        "                if length < min_length:\n",
        "                    min_length = length\n",
        "                    min_length_site = site\n",
        "            \n",
        "            # schedule an event\n",
        "            schedule.add_event_after(0, self.start_collection, \n",
        "                                     first_node = min_length_site, \n",
        "                                     last_node = last_node)\n",
        "        else: \n",
        "\n",
        "            # add the site to the queue\n",
        "            self.collection_sites.append(last_node)\n",
        "\n",
        "    def time_of_arrival(self, first_node, last_node):\n",
        "            \"\"\"\n",
        "            Finding the total distance back-and forth between nodes\n",
        "            \"\"\"\n",
        "            distance = nx.shortest_path_length(self.network, source = first_node,\n",
        "                                              target = last_node, weight = 'weight')\n",
        "            \n",
        "            return distance * 2\n",
        "    \n",
        "    def start_collection(self, schedule, first_node, last_node):\n",
        "        \"\"\"\n",
        "        Beginning our waste collection process\n",
        "        \"\"\"\n",
        "        \n",
        "        # increasing counter for nodes where trash is to be collected \n",
        "        self.waste_to_collect += 1\n",
        "\n",
        "        # this node cannot be a drop-off\n",
        "        try:\n",
        "            self.drop_off_site.remove(first_node)\n",
        "        except ValueError:\n",
        "            pass\n",
        "\n",
        "        self.network.nodes[first_node]['waste_truck'] = False\n",
        "        \n",
        "        # initializing addtional time\n",
        "        random_time = 0\n",
        "\n",
        "        # comparing against random value to see\n",
        "        if randint(0, 100) <= self.probabilistic_randomness:\n",
        "            \n",
        "            # determine additional time from normally distributed values\n",
        "            random_time = np.random.normal(self.additional_time_mean, self.additional_time_std)\n",
        "\n",
        "        # collection time is total time needed to collect\n",
        "        collection_time = np.random.normal(self.collection_time_prior, self.collection_time_std)\n",
        "        calculated_time_of_arrival = self.time_of_arrival(first_node, last_node)*2 \n",
        "        total_collection_time = calculated_time_of_arrival + collection_time + random_time\n",
        "        self.waste_collection_time.append(self.time_of_arrival(first_node, last_node)*2)\n",
        "\n",
        "        # Fuel calculation is also done using online sources\n",
        "        self.fuel.append(self.capacity - (self.time_of_arrival(first_node, last_node)*2.5))\n",
        "        \n",
        "        # schedule event to be added\n",
        "        schedule.add_event_after(total_collection_time, self.finish_waste_collection, first_node)\n",
        "        \n",
        "    def finish_waste_collection(self, schedule, initial_node): \n",
        "        \"\"\"\n",
        "        Finishing the removal process\n",
        "        \"\"\"\n",
        "\n",
        "        # Tagging our drop off\n",
        "        self.network.nodes[initial_node]['waste_truck'] = True\n",
        "        self.drop_off_site.append(initial_node)\n",
        "        self.drop_off_available.append(len(self.drop_off_site))\n",
        "        \n",
        "        # checking to see if more nodes can be visited\n",
        "        if len(self.collection_sites) > 0:\n",
        "            schedule.add_event_after(0, self.start_collection, \n",
        "                                     first_node = initial_node, \n",
        "                                     last_node = self.collection_sites.pop())\n",
        " \n",
        "        \n",
        "    def start_simulation(self, schedule):\n",
        "            \"\"\"\n",
        "            Starts the simulation with an initial waste collection\n",
        "            \"\"\"\n",
        "            for existing_node in self.network.nodes():\n",
        "                time = np.random.poisson(self.network.nodes[existing_node][\"waste_rate\"])\n",
        "                schedule.add_event_after(time + random.random(), self.schedule_waste_collection, existing_node)"
      ],
      "metadata": {
        "id": "5XGBuaJmcz_0"
      },
      "execution_count": 21,
      "outputs": []
    },
    {
      "cell_type": "code",
      "source": [
        "def run_waste_simulation(network, run_until = 100): \n",
        "    \"\"\"\n",
        "    Running the simulation with the given parameters\n",
        "    \"\"\"\n",
        "    # instantiating the classes \n",
        "    schedule = Schedule()\n",
        "    waste_collection_process = WasteSystem(network)\n",
        "    waste_collection_process.start_simulation(schedule)\n",
        "    \n",
        "    # running simulation\n",
        "    while schedule.next_event_time() < run_until:\n",
        "        schedule.run_next_event()\n",
        "\n",
        "    return waste_collection_process"
      ],
      "metadata": {
        "id": "YFy79ekTfx3R"
      },
      "execution_count": 22,
      "outputs": []
    },
    {
      "cell_type": "code",
      "source": [
        "c = [\"powell\", \"union square\", \"soma\", \"embarcadero\", \n",
        "                  \"north beach\", \"lower nob hill\", \"russian hill\", \n",
        "                  \"civic center\", \"mission\", \"van ness\"]\n",
        "\n",
        "# assigned values to the nodes in the network\n",
        "garbage_spots = {\"powell\": 1.5, \"union square\": 1.95,\n",
        "                   \"soma\": 0.92, \"embarcadero\": 2.22,\n",
        "                   \"north beach\": 1.49, \"lower nob hill\": 2.24,\n",
        "                   \"russian hill\": 0.87, \"civic center\": 1.29,\n",
        "                   \"mission\": 0.70, \"van ness\": 1.86}\n",
        "\n",
        "node_population = {\"powell\": 15000, \"union square\": 40000,\n",
        "                   \"soma\": 7500, \"embarcadero\": 50000,\n",
        "                   \"north beach\": 14200, \"lower nob hill\": 62500,\n",
        "                   \"russian hill\": 6300, \"civic center\": 14650,\n",
        "                   \"mission\": 5000, \"van ness\": 19624}\n",
        "\n",
        "\n",
        "connected_nodes = [[\"powell\", \"union square\"], [\"powell\", \"soma\"],\n",
        "                   [\"powell\", \"lower nob hill\"], [\"powell\", \"civic center\"],\n",
        "                   [\"civic center\", \"lower nob hill\"], [\"civic center\", \"soma\"], \n",
        "                   [\"van ness\", \"civic center\"], [\"van ness\", \"soma\"],\n",
        "                   [\"van ness\", \"lower nob hill\"], [\"soma\", \"embarcadero\"],\n",
        "                   [\"embarcadero\", \"lower nob hill\"], [\"embarcadero\", \"north beach\"],\n",
        "                   [\"lower nob hill\", \"van ness\"],[\"north beach\", \"russian hill\"], \\\n",
        "                   [\"north beach\", \"union square\"],\n",
        "                   [\"russian hill\", \"lower nob hill\"], [\"union square\", \"lower nob hill\"],\n",
        "                   [\"van ness\", \"mission\"]]\n",
        "\n",
        "# test that simulation runs as expected\n",
        "nodes_in_system = nx.Graph()\n",
        "\n",
        "for edge in connected_nodes:\n",
        "    nodes_in_system.add_edge(edge[0], edge[1], weight = find_weights(edge[0], edge[1]))\n",
        "\n",
        "# determines drop-off sites\n",
        "dis = dump_location(nodes_in_system, 6)\n",
        "\n",
        "for node in nodes_in_system.nodes():\n",
        "    nodes_in_system.nodes[node]['population'] = node_population[node]\n",
        "    nodes_in_system.nodes[node]['area'] = garbage_spots[node]\n",
        "    nodes_in_system.nodes[node]['waste_rate'] = waste_production_rate(node)\n",
        "    nodes_in_system.nodes[node]['waste_truck'] = dis[node]\n",
        "            \n",
        "run_waste_simulation(nodes_in_system, run_until = 100)"
      ],
      "metadata": {
        "colab": {
          "base_uri": "https://localhost:8080/"
        },
        "id": "N-_ztMzgf7p7",
        "outputId": "c00fe039-e94f-4c19-e1f8-b10fea35e26f"
      },
      "execution_count": 23,
      "outputs": [
        {
          "output_type": "execute_result",
          "data": {
            "text/plain": [
              "<__main__.WasteSystem at 0x7fabf4a94d10>"
            ]
          },
          "metadata": {},
          "execution_count": 23
        }
      ]
    },
    {
      "cell_type": "code",
      "source": [
        "print(out.collection_sites)"
      ],
      "metadata": {
        "colab": {
          "base_uri": "https://localhost:8080/"
        },
        "id": "pHA8mNuU9mFT",
        "outputId": "e72f42bc-7a57-41c2-9e4b-dd8570d3bd3b"
      },
      "execution_count": 24,
      "outputs": [
        {
          "output_type": "stream",
          "name": "stdout",
          "text": [
            "['lower nob hill', 'van ness', 'embarcadero', 'lower nob hill', 'union square', 'civic center', 'powell', 'lower nob hill', 'north beach', 'embarcadero', 'union square', 'lower nob hill', 'van ness', 'lower nob hill', 'soma', 'union square', 'embarcadero', 'lower nob hill', 'embarcadero', 'powell', 'civic center', 'union square', 'lower nob hill', 'north beach', 'van ness', 'embarcadero', 'russian hill', 'lower nob hill', 'mission', 'embarcadero', 'lower nob hill', 'union square', 'lower nob hill', 'van ness', 'powell', 'civic center', 'embarcadero', 'union square', 'north beach', 'lower nob hill', 'embarcadero', 'lower nob hill', 'union square', 'embarcadero', 'soma', 'van ness', 'lower nob hill', 'civic center', 'powell', 'embarcadero', 'union square', 'lower nob hill', 'north beach', 'embarcadero', 'embarcadero', 'union square', 'lower nob hill', 'van ness', 'embarcadero', 'union square', 'russian hill', 'embarcadero', 'civic center', 'lower nob hill', 'powell', 'lower nob hill', 'union square', 'lower nob hill', 'embarcadero', 'lower nob hill', 'van ness', 'embarcadero', 'lower nob hill', 'union square', 'soma', 'powell', 'civic center', 'lower nob hill', 'embarcadero', 'union square', 'lower nob hill', 'north beach', 'van ness', 'embarcadero', 'union square', 'embarcadero', 'union square', 'civic center', 'powell', 'union square', 'lower nob hill', 'embarcadero', 'van ness', 'russian hill', 'lower nob hill', 'lower nob hill', 'north beach', 'embarcadero', 'lower nob hill', 'soma', 'embarcadero', 'union square', 'civic center', 'powell', 'lower nob hill', 'van ness', 'embarcadero', 'lower nob hill', 'embarcadero', 'lower nob hill', 'north beach', 'embarcadero', 'lower nob hill', 'union square', 'mission', 'van ness', 'embarcadero', 'civic center', 'lower nob hill', 'powell', 'lower nob hill', 'embarcadero', 'union square', 'north beach', 'van ness', 'embarcadero', 'lower nob hill', 'russian hill', 'union square', 'lower nob hill', 'soma', 'civic center', 'embarcadero', 'union square', 'powell', 'lower nob hill', 'union square', 'north beach', 'lower nob hill', 'van ness', 'embarcadero', 'embarcadero', 'lower nob hill', 'union square', 'lower nob hill', 'embarcadero', 'civic center', 'lower nob hill', 'powell', 'union square', 'van ness', 'embarcadero', 'lower nob hill', 'north beach', 'mission', 'embarcadero', 'soma', 'union square', 'lower nob hill', 'civic center', 'russian hill', 'embarcadero', 'van ness', 'lower nob hill', 'powell', 'union square', 'lower nob hill', 'embarcadero', 'north beach', 'lower nob hill', 'embarcadero', 'civic center', 'lower nob hill', 'embarcadero', 'van ness', 'lower nob hill', 'union square', 'embarcadero', 'lower nob hill', 'north beach', 'lower nob hill', 'union square', 'embarcadero', 'soma', 'van ness', 'lower nob hill', 'powell', 'union square', 'russian hill', 'embarcadero', 'lower nob hill', 'embarcadero', 'north beach', 'mission', 'van ness', 'lower nob hill', 'lower nob hill', 'union square', 'embarcadero', 'powell', 'civic center', 'union square', 'lower nob hill', 'embarcadero', 'lower nob hill', 'van ness', 'union square', 'lower nob hill', 'embarcadero', 'lower nob hill', 'soma', 'north beach', 'embarcadero', 'union square', 'lower nob hill', 'powell', 'union square', 'lower nob hill', 'embarcadero', 'van ness', 'civic center', 'lower nob hill', 'union square', 'embarcadero', 'russian hill', 'north beach', 'lower nob hill', 'embarcadero', 'powell', 'van ness', 'union square', 'embarcadero', 'civic center', 'lower nob hill', 'north beach', 'mission', 'embarcadero', 'van ness', 'lower nob hill', 'union square', 'soma', 'powell', 'embarcadero', 'lower nob hill', 'union square', 'embarcadero', 'civic center', 'lower nob hill', 'van ness', 'north beach', 'embarcadero', 'union square', 'lower nob hill', 'russian hill', 'union square', 'van ness', 'lower nob hill', 'embarcadero', 'union square', 'civic center', 'lower nob hill', 'north beach', 'embarcadero', 'soma', 'union square', 'powell', 'lower nob hill', 'van ness', 'embarcadero', 'union square', 'lower nob hill', 'embarcadero', 'civic center', 'union square', 'mission', 'lower nob hill', 'north beach', 'embarcadero', 'lower nob hill', 'embarcadero', 'van ness', 'lower nob hill', 'powell', 'union square', 'lower nob hill', 'russian hill', 'embarcadero', 'lower nob hill', 'soma', 'embarcadero', 'union square', 'lower nob hill', 'north beach', 'van ness', 'embarcadero', 'lower nob hill', 'powell', 'embarcadero', 'embarcadero', 'civic center', 'union square', 'lower nob hill', 'van ness', 'north beach', 'lower nob hill', 'powell', 'lower nob hill', 'embarcadero', 'union square', 'lower nob hill', 'van ness', 'embarcadero', 'soma', 'lower nob hill', 'mission', 'russian hill', 'civic center', 'union square', 'embarcadero', 'lower nob hill', 'north beach', 'lower nob hill', 'embarcadero', 'powell', 'lower nob hill', 'union square', 'embarcadero', 'van ness', 'lower nob hill', 'civic center', 'embarcadero', 'union square', 'lower nob hill', 'powell', 'embarcadero', 'north beach', 'union square', 'van ness', 'lower nob hill', 'embarcadero', 'lower nob hill', 'soma', 'embarcadero', 'lower nob hill', 'union square', 'civic center', 'lower nob hill', 'embarcadero', 'van ness', 'russian hill', 'lower nob hill', 'powell', 'union square', 'lower nob hill', 'north beach', 'embarcadero', 'embarcadero', 'lower nob hill', 'van ness', 'union square', 'civic center', 'mission', 'lower nob hill', 'union square', 'embarcadero', 'north beach', 'embarcadero', 'union square', 'van ness', 'soma', 'lower nob hill', 'embarcadero', 'civic center', 'union square', 'lower nob hill', 'lower nob hill', 'embarcadero', 'powell', 'lower nob hill', 'union square', 'north beach', 'lower nob hill', 'russian hill', 'embarcadero', 'van ness', 'union square', 'civic center', 'lower nob hill', 'embarcadero', 'union square', 'powell', 'lower nob hill', 'union square', 'embarcadero', 'north beach', 'van ness', 'lower nob hill', 'soma', 'mission', 'lower nob hill', 'embarcadero', 'van ness', 'powell', 'lower nob hill', 'lower nob hill', 'north beach', 'embarcadero', 'union square', 'lower nob hill', 'embarcadero', 'van ness', 'civic center', 'embarcadero', 'lower nob hill', 'union square', 'russian hill', 'lower nob hill', 'embarcadero', 'union square', 'powell', 'north beach', 'lower nob hill', 'lower nob hill', 'van ness', 'soma', 'embarcadero', 'lower nob hill', 'civic center', 'lower nob hill', 'union square', 'embarcadero', 'lower nob hill', 'powell', 'union square', 'van ness', 'lower nob hill', 'embarcadero', 'mission', 'lower nob hill', 'union square', 'embarcadero', 'civic center', 'powell', 'lower nob hill', 'union square', 'embarcadero', 'van ness', 'russian hill', 'lower nob hill', 'union square', 'embarcadero', 'soma', 'union square', 'north beach', 'embarcadero', 'lower nob hill', 'union square', 'civic center', 'powell', 'van ness', 'embarcadero', 'lower nob hill', 'union square', 'embarcadero', 'lower nob hill', 'lower nob hill', 'north beach', 'union square', 'embarcadero', 'van ness', 'powell', 'civic center', 'embarcadero', 'lower nob hill', 'union square', 'embarcadero', 'van ness', 'soma', 'russian hill', 'union square', 'mission', 'lower nob hill', 'north beach', 'civic center', 'powell', 'embarcadero', 'union square', 'lower nob hill', 'union square', 'lower nob hill', 'embarcadero', 'embarcadero', 'lower nob hill', 'union square', 'powell', 'north beach', 'civic center', 'embarcadero', 'lower nob hill', 'union square', 'embarcadero', 'van ness', 'lower nob hill', 'embarcadero', 'soma', 'lower nob hill', 'civic center', 'embarcadero', 'powell', 'union square', 'lower nob hill', 'north beach', 'van ness', 'embarcadero', 'russian hill', 'lower nob hill', 'embarcadero', 'union square', 'lower nob hill', 'mission', 'van ness', 'civic center', 'embarcadero', 'union square', 'lower nob hill', 'north beach', 'powell', 'lower nob hill', 'embarcadero', 'lower nob hill', 'van ness', 'union square', 'embarcadero', 'soma', 'embarcadero', 'lower nob hill', 'north beach', 'civic center', 'union square', 'powell', 'embarcadero', 'lower nob hill', 'embarcadero', 'lower nob hill', 'lower nob hill', 'embarcadero', 'russian hill', 'lower nob hill', 'union square', 'lower nob hill', 'embarcadero', 'north beach', 'powell', 'civic center', 'lower nob hill', 'van ness', 'union square', 'embarcadero', 'lower nob hill', 'union square', 'soma', 'lower nob hill', 'mission', 'embarcadero', 'van ness', 'union square', 'north beach', 'powell', 'civic center', 'embarcadero', 'lower nob hill', 'van ness', 'union square', 'lower nob hill', 'embarcadero', 'north beach', 'embarcadero', 'lower nob hill', 'russian hill', 'civic center', 'powell', 'union square', 'embarcadero', 'lower nob hill', 'lower nob hill', 'van ness', 'union square', 'soma', 'embarcadero', 'lower nob hill', 'north beach', 'embarcadero', 'powell', 'union square', 'lower nob hill', 'van ness', 'lower nob hill', 'embarcadero', 'lower nob hill', 'union square', 'lower nob hill', 'embarcadero', 'mission', 'union square', 'lower nob hill', 'north beach', 'embarcadero']\n"
          ]
        }
      ]
    },
    {
      "cell_type": "code",
      "source": [
        "# initialize values of interest on the simulation\n",
        "average_service_time = []\n",
        "average_queue_len=[]\n",
        "best_number_of_stations = 3\n",
        "average_fuel_remaining = []\n",
        "# loops to represent the numerous trials\n",
        "for i in range(1000):\n",
        "    \n",
        "    # reset the network\n",
        "    nodes_in_system = nx.Graph()\n",
        "    for edge in connected_nodes:\n",
        "        nodes_in_system.add_edge(edge[0], edge[1], weight = find_weights(edge[0], edge[1]))\n",
        "    \n",
        "    # get a random distribution for the stations\n",
        "    \n",
        "    dis = dump_location(nodes_in_system, best_number_of_stations)\n",
        "    \n",
        "    for node in nodes_in_system.nodes():\n",
        "        nodes_in_system.nodes[node]['population'] = node_population[node]\n",
        "        nodes_in_system.nodes[node]['area'] = garbage_spots[node]\n",
        "        nodes_in_system.nodes[node]['waste_rate'] = waste_production_rate(node)\n",
        "        nodes_in_system.nodes[node]['waste_truck'] = dis[node]\n",
        "        \n",
        "    # save the output variables\n",
        "    out = run_waste_simulation(nodes_in_system, run_until=1000)\n",
        "    average_service_time.append(np.mean(out.waste_collection_time))\n",
        "   # average_queue_len.append(np.mean(out.length_of_queue))\n",
        "    average_fuel_remaining.append(np.mean(out.fuel))"
      ],
      "metadata": {
        "id": "BNeW4-zJgQK6"
      },
      "execution_count": 47,
      "outputs": []
    },
    {
      "cell_type": "code",
      "source": [
        "confint = st.t.interval(alpha = 0.8, df = len(average_fuel_remaining) - 1, loc = np.mean(average_fuel_remaining), scale = st.sem(average_fuel_remaining))\n",
        "mean_fuel = np.mean(average_fuel_remaining)\n",
        "mean_time = np.mean(average_service_time)\n",
        "per_1 = np.percentile(average_fuel_remaining, 25)\n",
        "per_2 = np.percentile(average_fuel_remaining, 75)\n",
        "\n",
        "perc_1 = np.percentile(average_service_time, 25)\n",
        "perc_2 = np.percentile(average_service_time, 75)\n",
        "\n",
        "# plot the results and get the confidence interval\n",
        "plt.hist(average_service_time, bins = 50)\n",
        "plt.title(\"Waste Collection Time\")\n",
        "plt.xlabel('Time')\n",
        "plt.ylabel('Frequency')\n",
        "plt.axvline(mean_time, color = \"red\", linestyle = '--')\n",
        "plt.axvline(perc_1, color=\"black\")\n",
        "plt.axvline(perc_2, color= \"black\")\n",
        "plt.show()\n",
        "\n",
        "plt.hist(average_fuel_remaining, bins = 50, color = 'red')\n",
        "plt.title(\"Fuel Remaining\")\n",
        "plt.xlabel('Queue Length')\n",
        "plt.ylabel('Frequency')\n",
        "plt.axvline(mean_fuel, color = \"black\", linestyle = '--')\n",
        "plt.axvline(per_1)\n",
        "plt.axvline(per_2)\n",
        "plt.show()\n",
        "\n",
        "\n",
        "print(f\"Average time needed for the average strategy: {np.mean(average_service_time)}\")\n",
        "print(f\"Average time needed 95% confidence interval {st.t.interval(alpha = 0.8, df = len(average_service_time) - 1, loc = np.mean(average_service_time), scale = st.sem(average_service_time)) }\")\n",
        "print(f\"Average queue length: {np.mean(average_queue_len)}\")\n",
        "#print(f\"Average queue length 95% confidence interval {st.t.interval(alpha = 0.8, df = len(average_queue_len) - 1, loc = np.mean(average_queue_len), scale = st.sem(average_queue_len)) }\")"
      ],
      "metadata": {
        "colab": {
          "base_uri": "https://localhost:8080/",
          "height": 694
        },
        "id": "0y9DGi7YhFa1",
        "outputId": "a6e095c1-827c-4080-a549-2348839cc299"
      },
      "execution_count": 48,
      "outputs": [
        {
          "output_type": "display_data",
          "data": {
            "text/plain": [
              "<Figure size 432x288 with 1 Axes>"
            ],
            "image/png": "[encoded data removed]"
          },
          "metadata": {
            "needs_background": "light"
          }
        },
        {
          "output_type": "display_data",
          "data": {
            "text/plain": [
              "<Figure size 432x288 with 1 Axes>"
            ],
            "image/png": "[encoded data removed]"
          },
          "metadata": {
            "needs_background": "light"
          }
        },
        {
          "output_type": "stream",
          "name": "stdout",
          "text": [
            "Average time needed for the average strategy: 19.097432867418494\n",
            "Average time needed 95% confidence interval (18.989848555017243, 19.205017179819745)\n",
            "Average queue length: nan\n"
          ]
        },
        {
          "output_type": "stream",
          "name": "stderr",
          "text": [
            "/usr/local/lib/python3.7/dist-packages/numpy/core/fromnumeric.py:3441: RuntimeWarning: Mean of empty slice.\n",
            "  out=out, **kwargs)\n",
            "/usr/local/lib/python3.7/dist-packages/numpy/core/_methods.py:189: RuntimeWarning: invalid value encountered in double_scalars\n",
            "  ret = ret.dtype.type(ret / rcount)\n"
          ]
        }
      ]
    },
    {
      "cell_type": "code",
      "source": [
        "# find the nodes with highest degree considering weights\n",
        "order = sorted(nodes_in_system.degree(weight = \"weight\"), key = lambda x: x[1], reverse = True)\n",
        "best_distribution = {}\n",
        "nodes = list(nodes_in_system.nodes())\n",
        "\n",
        "for i in range(best_number_of_stations):\n",
        "    spot = order[i][0]\n",
        "    nodes.remove(spot)\n",
        "    best_distribution[spot] = True\n",
        "    \n",
        "for node in nodes:\n",
        "    best_distribution[node] = False# ini"
      ],
      "metadata": {
        "id": "C0H6RPw8hLDj"
      },
      "execution_count": 27,
      "outputs": []
    },
    {
      "cell_type": "code",
      "source": [
        "average_service_time = []\n",
        "average_queue_len = []\n",
        "average_fuel_remaining= []\n",
        "\n",
        "# run the simulation for 1000 trials\n",
        "for i in range(1000):\n",
        "    \n",
        "    # reset the network with the best distribution\n",
        "    nodes_in_system = nx.Graph()\n",
        "    \n",
        "    for edge in connected_nodes:\n",
        "        nodes_in_system.add_edge(edge[0], edge[1], weight=find_weights(edge[0], edge[1]))\n",
        "        \n",
        "    for node in nodes_in_system.nodes():\n",
        "        nodes_in_system.nodes[node]['population'] = node_population[node]\n",
        "        nodes_in_system.nodes[node]['area'] = garbage_spots[node]\n",
        "        nodes_in_system.nodes[node]['waste_rate'] = waste_production_rate(node)\n",
        "        nodes_in_system.nodes[node]['waste_truck'] = best_distribution[node]\n",
        "\n",
        "    # save the results\n",
        "    out = run_waste_simulation(nodes_in_system, run_until=100)\n",
        "    average_service_time.append(np.mean(out.waste_collection_time))\n",
        "    #average_queue_len.append(np.mean(out.length_of_queue))\n",
        "    average_fuel_remaining.append(np.mean(out.fuel))\n"
      ],
      "metadata": {
        "id": "uP3OOpC3A_og"
      },
      "execution_count": 32,
      "outputs": []
    },
    {
      "cell_type": "code",
      "source": [
        "confint = st.t.interval(alpha = 0.8, df = len(average_fuel_remaining) - 1, loc = np.mean(average_fuel_remaining), scale = st.sem(average_fuel_remaining))\n",
        "mean_fuel = np.mean(average_fuel_remaining)\n",
        "mean_time = np.mean(average_service_time)\n",
        "per_1 = np.percentile(average_fuel_remaining, 25)\n",
        "per_2 = np.percentile(average_fuel_remaining, 75)\n",
        "\n",
        "perc_1 = np.percentile(average_service_time, 25)\n",
        "perc_2 = np.percentile(average_service_time, 75)\n",
        "\n",
        "# plot the results and get the confidence interval\n",
        "plt.hist(average_service_time, bins = 50)\n",
        "plt.title(\"Waste Collection Time - Stratefy 2\")\n",
        "plt.xlabel('Time')\n",
        "plt.ylabel('Frequency')\n",
        "plt.axvline(mean_time, color = \"red\", linestyle = '--')\n",
        "plt.axvline(perc_1, color=\"black\")\n",
        "plt.axvline(perc_2, color= \"black\")\n",
        "plt.show()\n",
        "\n",
        "\n",
        "\n",
        "plt.hist(average_fuel_remaining, bins = 50, color = 'red')\n",
        "plt.title(\"Average amount of Fuel Remaining\")\n",
        "plt.xlabel('Gallons')\n",
        "plt.ylabel('Frequency')\n",
        "plt.axvline(mean_fuel, color = \"black\", linestyle = '--')\n",
        "plt.axvline(per_1)\n",
        "plt.axvline(per_2)\n",
        "plt.show()\n",
        "\n",
        "confint = st.t.interval(alpha = 0.8, df = len(average_fuel_remaining) - 1, loc = np.mean(average_fuel_remaining), scale = st.sem(average_fuel_remaining))\n",
        "\n",
        "\n",
        "print(f\"Average time needed for the average strategy: {np.mean(average_service_time)}\")\n",
        "print(f\"Average time needed 95% confidence interval {st.t.interval(alpha = 0.8, df = len(average_service_time) - 1, loc = np.mean(average_service_time), scale = st.sem(average_service_time)) }\")\n",
        "print(f\"Average amount of fuel left: {np.mean(average_fuel_remaining)}\")\n",
        "print(f\"Average fuel remaining 95% confidence interval {st.t.interval(alpha = 0.8, df = len(average_fuel_remaining) - 1, loc = np.mean(average_fuel_remaining), scale = st.sem(average_fuel_remaining)) }\")"
      ],
      "metadata": {
        "colab": {
          "base_uri": "https://localhost:8080/",
          "height": 642
        },
        "id": "E4mGgYpjBAOE",
        "outputId": "7968948a-c1de-4834-d945-7ed6b01b56f8"
      },
      "execution_count": 46,
      "outputs": [
        {
          "output_type": "display_data",
          "data": {
            "text/plain": [
              "<Figure size 432x288 with 1 Axes>"
            ],
            "image/png": "[encoded data removed]"
          },
          "metadata": {
            "needs_background": "light"
          }
        },
        {
          "output_type": "display_data",
          "data": {
            "text/plain": [
              "<Figure size 432x288 with 1 Axes>"
            ],
            "image/png": "[encoded data removed]"
          },
          "metadata": {
            "needs_background": "light"
          }
        },
        {
          "output_type": "stream",
          "name": "stdout",
          "text": [
            "Average time needed for the average strategy: 16.095014301587305\n",
            "Average time needed 95% confidence interval (15.977607300164337, 16.212421303010274)\n",
            "Average amount of fuel left: 69.88123212301588\n",
            "Average fuel remaining 95% confidence interval (69.73447337123717, 70.02799087479458)\n"
          ]
        }
      ]
    },
    {
      "cell_type": "code",
      "source": [
        ""
      ],
      "metadata": {
        "id": "SRose_azUKt8"
      },
      "execution_count": null,
      "outputs": []
    }
  ]
}