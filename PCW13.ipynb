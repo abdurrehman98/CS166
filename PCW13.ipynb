{
  "nbformat": 4,
  "nbformat_minor": 0,
  "metadata": {
    "colab": {
      "name": "PCW13.ipynb",
      "provenance": []
    },
    "kernelspec": {
      "name": "python3",
      "display_name": "Python 3"
    },
    "language_info": {
      "name": "python"
    }
  },
  "cells": [
    {
      "cell_type": "code",
      "execution_count": 1,
      "metadata": {
        "id": "r7xgxA_YFeSn"
      },
      "outputs": [],
      "source": [
        "import numpy as np\n",
        "import matplotlib.pyplot as plt\n",
        "import scipy.stats as sts"
      ]
    },
    {
      "cell_type": "code",
      "source": [
        "def f(x):\n",
        "    Z = 24.44321494051954\n",
        "    if abs(x) > 7:\n",
        "        return 0\n",
        "    elif abs(x) > 3:\n",
        "        return 3 * (1-(x / 7) ** 2) ** 0.5 / Z\n",
        "    elif abs(x) > 1:\n",
        "        return ((3- abs(x))/2 - 3/7 * 10**0.5 * ((3 - x**2 + 2*abs(x))**0.5-2)) / Z\n",
        "    elif abs(x) > 0.75:\n",
        "        return (9-8 * abs(x)) / Z\n",
        "    elif abs(x) > 0.5:\n",
        "        return (3 * abs(x) + 0.75) / Z\n",
        "    else:\n",
        "        return 2.25 / Z"
      ],
      "metadata": {
        "id": "mqgi9ncDFf2J"
      },
      "execution_count": 2,
      "outputs": []
    },
    {
      "cell_type": "code",
      "source": [
        "from logging import StringTemplateStyle\n",
        "def simulation(f, x0, steps):\n",
        "    total = []\n",
        "    x = x0\n",
        "    \n",
        "    # MCMC metropolis formula\n",
        "    for i in range(steps):\n",
        "        y = np.random.normal(x, 2)\n",
        "        if np.random.uniform() < min(1, f(y) / f(x)):\n",
        "            x = y\n",
        "        if i % 100 == 0:\n",
        "            total.append(x)\n",
        "            \n",
        "    return total\n",
        "\n",
        "x = np.arange(-8, 8, 0.1)\n",
        "y = [f(xi) for xi in x]\n",
        "\n",
        "plt.figure()\n",
        "batman = simulation(f, x0 = 0, steps=100000)\n",
        "plt.plot(x, y)\n",
        "plt.hist(batman, density=True, bins = 50, color = 'black')\n",
        "plt.show()"
      ],
      "metadata": {
        "colab": {
          "base_uri": "https://localhost:8080/",
          "height": 265
        },
        "id": "sPO-m9nRFjPR",
        "outputId": "cab651bc-48de-4678-f058-6ff86d514072"
      },
      "execution_count": 7,
      "outputs": [
        {
          "output_type": "display_data",
          "data": {
            "image/png": "[encoded data removed]",
            "text/plain": [
              "<Figure size 432x288 with 1 Axes>"
            ]
          },
          "metadata": {
            "needs_background": "light"
          }
        }
      ]
    },
    {
      "cell_type": "code",
      "source": [
        ""
      ],
      "metadata": {
        "id": "eAWniHlWFvaV"
      },
      "execution_count": null,
      "outputs": []
    }
  ]
}