{
  "nbformat": 4,
  "nbformat_minor": 0,
  "metadata": {
    "colab": {
      "name": "PCW10.ipynb",
      "provenance": []
    },
    "kernelspec": {
      "name": "python3",
      "display_name": "Python 3"
    },
    "language_info": {
      "name": "python"
    }
  },
  "cells": [
    {
      "cell_type": "code",
      "execution_count": 1,
      "metadata": {
        "id": "xQm_tMXNz_mq"
      },
      "outputs": [],
      "source": [
        "import numpy as np\n",
        "import random\n",
        "import math\n",
        "import matplotlib.pyplot as plt\n",
        "import scipy.stats as sts\n"
      ]
    },
    {
      "cell_type": "code",
      "source": [
        "def flip(p):\n",
        "    step = 0\n",
        "    if random.random() < p:\n",
        "        step = 1 #right\n",
        "    else:\n",
        "        step = -1  #left step\n",
        "    return step\n",
        "\n",
        "total = 30\n",
        "path = []\n",
        "start = 0\n",
        "for i in range(30):\n",
        "  start = start + flip(0.6)\n",
        "  path.append(start)\n",
        "plt.plot(list(range(total)),path)"
      ],
      "metadata": {
        "colab": {
          "base_uri": "https://localhost:8080/",
          "height": 282
        },
        "id": "yKgO8H9M0Dp9",
        "outputId": "59e58916-8cac-445f-e1aa-2c56902486f9"
      },
      "execution_count": 7,
      "outputs": [
        {
          "output_type": "execute_result",
          "data": {
            "text/plain": [
              "[<matplotlib.lines.Line2D at 0x7fc3a50eb5d0>]"
            ]
          },
          "metadata": {},
          "execution_count": 7
        },
        {
          "output_type": "display_data",
          "data": {
            "image/png": "[encoded data removed]",
            "text/plain": [
              "<Figure size 432x288 with 1 Axes>"
            ]
          },
          "metadata": {
            "needs_background": "light"
          }
        }
      ]
    },
    {
      "cell_type": "code",
      "source": [
        "N = 200\n",
        "histogram = []\n",
        "for j in range(N):\n",
        "    start = 0\n",
        "    for i in range(total):\n",
        "        start = start + flip(0.6)\n",
        "    histogram.append(start)\n",
        "plt.hist(histogram)"
      ],
      "metadata": {
        "colab": {
          "base_uri": "https://localhost:8080/",
          "height": 318
        },
        "id": "bW4m8_BQ0UV0",
        "outputId": "5f6665b8-ef0b-49f4-f6e0-e67759b51c38"
      },
      "execution_count": 8,
      "outputs": [
        {
          "output_type": "execute_result",
          "data": {
            "text/plain": [
              "(array([ 4.,  4., 36., 22., 29., 58., 28., 12.,  3.,  4.]),\n",
              " array([-8. , -5.2, -2.4,  0.4,  3.2,  6. ,  8.8, 11.6, 14.4, 17.2, 20. ]),\n",
              " <a list of 10 Patch objects>)"
            ]
          },
          "metadata": {},
          "execution_count": 8
        },
        {
          "output_type": "display_data",
          "data": {
            "image/png": "[encoded data removed]",
            "text/plain": [
              "<Figure size 432x288 with 1 Axes>"
            ]
          },
          "metadata": {
            "needs_background": "light"
          }
        }
      ]
    },
    {
      "cell_type": "code",
      "source": [
        "np.mean(histogram)"
      ],
      "metadata": {
        "colab": {
          "base_uri": "https://localhost:8080/"
        },
        "id": "Ymph42Bs1VLC",
        "outputId": "db0b6fef-3955-43ec-c60b-161386cb6bb0"
      },
      "execution_count": 9,
      "outputs": [
        {
          "output_type": "execute_result",
          "data": {
            "text/plain": [
              "5.23"
            ]
          },
          "metadata": {},
          "execution_count": 9
        }
      ]
    },
    {
      "cell_type": "code",
      "source": [
        "np.var(histogram)"
      ],
      "metadata": {
        "colab": {
          "base_uri": "https://localhost:8080/"
        },
        "id": "6kRcSw-H3CR5",
        "outputId": "c4058011-fa31-43ba-91c9-66a0752f3116"
      },
      "execution_count": 11,
      "outputs": [
        {
          "output_type": "execute_result",
          "data": {
            "text/plain": [
              "25.2271"
            ]
          },
          "metadata": {},
          "execution_count": 11
        }
      ]
    },
    {
      "cell_type": "code",
      "source": [
        "\n",
        "# R=zeros(1,2000000); % vector of 2,000,000 zeros\n",
        "# i=1; R(i)=100; % gambler’s initial fortune\n",
        "# while( R(i)>0 &R(i)<2100 )\n",
        "#i=i+1;\n",
        "#W = (rand <0.5); % random value of 0 or 1\n",
        "#W = 2*W - 1; % random value of +/-1\n",
        "#R(i)= R(i-1)+W; % gamblers new fortune\n",
        "#end\n",
        "#> plot(1:length(R),R) % plot R against its index\n",
        "#> %%% run for investigating running time\n",
        "#> for j=1:20\n",
        "#> i=1; R(i)=100;\n",
        "#> while( R(i)>0 &R(i)<2100 )\n",
        "#i=i+1;\n",
        "#W = 2*(rand <0.5)-1;\n",
        "#R(i)= R(i-1)+W;\n",
        "#end\n",
        "#> T(j)=i\n",
        "#> end\n",
        "#> hist(T)"
      ],
      "metadata": {
        "id": "zvolaj_v3EWR"
      },
      "execution_count": 18,
      "outputs": []
    },
    {
      "cell_type": "code",
      "source": [
        "def gamblertime(start, time):\n",
        "    balance = [start]\n",
        "    for i in range(time):\n",
        "        w = np.random.randint(2)\n",
        "        balance.append(balance[-1]+(2*w-1))\n",
        "        if balance[-1] < 0:\n",
        "            break\n",
        "    return balance"
      ],
      "metadata": {
        "id": "6gH8-vBB5DSL"
      },
      "execution_count": 23,
      "outputs": []
    },
    {
      "cell_type": "code",
      "source": [
        "for i in range(20000,50000,10000):\n",
        "    hist = []\n",
        "    for x in range(100):\n",
        "        hist.append(len(gamblertime(100,i)))\n",
        "    print(np.mean(hist))\n",
        "    plt.hist(hist, label=(f'Threshold = {i}'))\n",
        "    plt.legend()\n",
        "    plt.show()"
      ],
      "metadata": {
        "colab": {
          "base_uri": "https://localhost:8080/",
          "height": 816
        },
        "id": "Ex2fZT395MCF",
        "outputId": "0d2327f5-3a45-453b-9bfc-5ac5ea548382"
      },
      "execution_count": 28,
      "outputs": [
        {
          "output_type": "stream",
          "name": "stdout",
          "text": [
            "13773.13\n"
          ]
        },
        {
          "output_type": "display_data",
          "data": {
            "image/png": "[encoded data removed]",
            "text/plain": [
              "<Figure size 432x288 with 1 Axes>"
            ]
          },
          "metadata": {
            "needs_background": "light"
          }
        },
        {
          "output_type": "stream",
          "name": "stdout",
          "text": [
            "19522.27\n"
          ]
        },
        {
          "output_type": "display_data",
          "data": {
            "image/png": "[encoded data removed]",
            "text/plain": [
              "<Figure size 432x288 with 1 Axes>"
            ]
          },
          "metadata": {
            "needs_background": "light"
          }
        },
        {
          "output_type": "stream",
          "name": "stdout",
          "text": [
            "23172.64\n"
          ]
        },
        {
          "output_type": "display_data",
          "data": {
            "image/png": "[encoded data removed]",
            "text/plain": [
              "<Figure size 432x288 with 1 Axes>"
            ]
          },
          "metadata": {
            "needs_background": "light"
          }
        }
      ]
    },
    {
      "cell_type": "markdown",
      "source": [
        "The thresholds set a bound on how long the game will be played. I'm not sure how it is adding bias, but even while running time-based experiments the game would go on longer since there is the possibility of winning more. As we increase the bound, the expected earnings == mean keeps decreasing as a ratio of the threshold, showcasing the larger possibility of losing money."
      ],
      "metadata": {
        "id": "wCRzlbcJ72Sk"
      }
    },
    {
      "cell_type": "code",
      "source": [
        ""
      ],
      "metadata": {
        "id": "I0FdecpW6P_s"
      },
      "execution_count": null,
      "outputs": []
    }
  ]
}