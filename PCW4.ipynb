{
  "nbformat": 4,
  "nbformat_minor": 0,
  "metadata": {
    "colab": {
      "name": "PCW4.ipynb",
      "provenance": []
    },
    "kernelspec": {
      "name": "python3",
      "display_name": "Python 3"
    },
    "language_info": {
      "name": "python"
    }
  },
  "cells": [
    {
      "cell_type": "code",
      "execution_count": 2,
      "metadata": {
        "id": "JhU_PMzD_pQU"
      },
      "outputs": [],
      "source": [
        "import heapq\n",
        "import matplotlib.pyplot as plt\n",
        "import numpy as np\n",
        "\n",
        "class Event:\n",
        "    '''\n",
        "    Store the properties of one event in the Schedule class defined below. Each\n",
        "    event has a time at which it needs to run, a function to call when running\n",
        "    the event, along with the arguments and keyword arguments to pass to that\n",
        "    function.\n",
        "    '''\n",
        "    def __init__(self, timestamp, function, *args, **kwargs):\n",
        "        self.timestamp = timestamp\n",
        "        self.function = function\n",
        "        self.args = args\n",
        "        self.kwargs = kwargs\n",
        "    def __lt__(self, other):\n",
        "        '''\n",
        "        This overloads the less-than operator in Python. We need it so the\n",
        "        priority queue knows how to compare two events. We want events with\n",
        "        earlier (smaller) times to go first.\n",
        "        '''\n",
        "        return self.timestamp < other.timestamp\n",
        "\n",
        "    def run(self, schedule):\n",
        "        '''\n",
        "        Run an event by calling the function with its arguments and keyword\n",
        "        arguments. The first argument to any event function is always the\n",
        "        schedule in which events are being tracked. The schedule object can be\n",
        "        used to add new events to the priority queue.\n",
        "        '''\n",
        "        self.function(schedule, *self.args, **self.kwargs)\n",
        "\n",
        "\n",
        "class Schedule:\n",
        "    '''\n",
        "    Implement an event schedule using a priority queue. You can add events and\n",
        "    run the next event.\n",
        "    \n",
        "    The `now` attribute contains the time at which the last event was run.\n",
        "    '''\n",
        "    \n",
        "    def __init__(self):\n",
        "        self.now = 0  # Keep track of the current simulation time\n",
        "        self.priority_queue = []  # The priority queue of events to run\n",
        "    \n",
        "    def add_event_at(self, timestamp, function, *args, **kwargs):\n",
        "        # Add an event to the schedule at a particular point in time.\n",
        "        heapq.heappush(\n",
        "            self.priority_queue,\n",
        "            Event(timestamp, function, *args, **kwargs))\n",
        "    \n",
        "    def add_event_after(self, interval, function, *args, **kwargs):\n",
        "        # Add an event to the schedule after a specified time interval.\n",
        "        self.add_event_at(self.now + interval, function, *args, **kwargs)\n",
        "    \n",
        "    def next_event_time(self):\n",
        "        return self.priority_queue[0].timestamp\n",
        "\n",
        "    def run_next_event(self):\n",
        "        # Get the next event from the priority queue and run it.\n",
        "        event = heapq.heappop(self.priority_queue)\n",
        "        self.now = event.timestamp\n",
        "        event.run(self)\n",
        "        \n",
        "    def __repr__(self):\n",
        "        return (\n",
        "            f'Schedule() at time {self.now} ' +\n",
        "            f'with {len(self.priority_queue)} events in the queue')\n",
        "    \n",
        "    def print_events(self):\n",
        "        print(repr(self))\n",
        "        for event in sorted(self.priority_queue):\n",
        "            print(f'   {event.timestamp}: {event.function.__name__}')"
      ]
    },
    {
      "cell_type": "code",
      "source": [
        "import scipy.stats as sts\n",
        "\n",
        "\n",
        "class Queue:\n",
        "    def __init__(self, service_rate):\n",
        "        # Store the deterministic service time for an M/D/1 queue\n",
        "        self.service_time = 1 / service_rate\n",
        "        # We start with an empty queue and the server not busy\n",
        "        self.people_in_queue = 0\n",
        "        self.people_being_served = 0\n",
        "\n",
        "    def add_customer(self, schedule):\n",
        "        # Add the customer to the queue\n",
        "        self.people_in_queue += 1\n",
        "        if self.people_being_served < 1:\n",
        "            # This customer can be served immediately\n",
        "            schedule.add_event_after(0, self.start_serving_customer)\n",
        "            \n",
        "    def start_serving_customer(self, schedule):\n",
        "        # Move the customer from the queue to a server\n",
        "        self.people_in_queue -= 1\n",
        "        self.people_being_served += 1\n",
        "        # Schedule when the server will be done with the customer\n",
        "        schedule.add_event_after(\n",
        "            self.service_time,\n",
        "            self.finish_serving_customer)\n",
        "            \n",
        "    def finish_serving_customer(self, schedule):\n",
        "        # Remove the customer from the server\n",
        "        self.people_being_served -= 1\n",
        "        if self.people_in_queue > 0:\n",
        "            # There are more people in the queue so serve the next customer\n",
        "            schedule.add_event_after(0, self.start_serving_customer)\n",
        "\n",
        "class BusSystem:\n",
        "    \n",
        "    def __init__(self, arrival_rate, service_rate):\n",
        "        self.queue = Queue(service_rate)\n",
        "        self.arrival_distribution = sts.expon(scale=1/arrival_rate)\n",
        "\n",
        "    def add_customer(self, schedule):\n",
        "        # Add this customer to the queue\n",
        "        self.queue.add_customer(schedule)\n",
        "        # Schedule when to add another customer\n",
        "        schedule.add_event_after(\n",
        "            self.arrival_distribution.rvs(),\n",
        "            self.add_customer)\n",
        "\n",
        "    def run(self, schedule):\n",
        "        # Schedule when the first customer arrives\n",
        "        schedule.add_event_after(\n",
        "            self.arrival_distribution.rvs(),\n",
        "            self.add_customer)\n",
        "        \n",
        "\n",
        "def run_simulation(arrival_rate, service_rate, run_until):\n",
        "        schedule = Schedule()\n",
        "        bus_system = BusSystem(arrival_rate, service_rate)\n",
        "        bus_system.run(schedule)\n",
        "        while schedule.next_event_time() < run_until:\n",
        "            schedule.run_next_event()\n",
        "        return bus_system"
      ],
      "metadata": {
        "id": "t85j87a5_v0A"
      },
      "execution_count": 8,
      "outputs": []
    },
    {
      "cell_type": "code",
      "source": [
        "def trial_run(trials, arrival_rate, service_rate):\n",
        "    experiment = []\n",
        "    for i in range(trials):\n",
        "        bus_system = run_simulation(arrival_rate, service_rate, run_until=100)\n",
        "        queue = bus_system.queue.people_in_queue\n",
        "        experiment.append(bus_system.queue.people_in_queue)\n",
        "    return experiment\n",
        "\n",
        "first_experiment = trial_run(100, 0.8, 1)\n",
        "\n",
        "\n",
        "plt.figure()\n",
        "plt.hist(first_experiment, range(0,20))\n",
        "plt.title('Experiment 1')\n",
        "plt.xlabel('Queue Length')\n",
        "plt.ylabel('Frequency')\n",
        "plt.show()\n",
        "\n",
        "mean = np.mean(first_experiment)\n",
        "t_val = sts.sem(first_experiment)\n",
        "\n",
        "print('Sample mean:', mean)\n",
        "print('95% confidence interval of population mean:', [mean + 1.96*t_val, mean - 1.96*t_val])"
      ],
      "metadata": {
        "colab": {
          "base_uri": "https://localhost:8080/",
          "height": 330
        },
        "id": "IcdekrIT_6rQ",
        "outputId": "210c924f-4ca4-438b-ecaa-35022fc08470"
      },
      "execution_count": 13,
      "outputs": [
        {
          "output_type": "display_data",
          "data": {
            "image/png": "[encoded data removed]",
            "text/plain": [
              "<Figure size 432x288 with 1 Axes>"
            ]
          },
          "metadata": {
            "needs_background": "light"
          }
        },
        {
          "output_type": "stream",
          "name": "stdout",
          "text": [
            "Sample mean: 1.46\n",
            "95% confidence interval of population mean: [1.8372913222142562, 1.0827086777857438]\n"
          ]
        }
      ]
    },
    {
      "cell_type": "code",
      "source": [
        "second_experiment = trial_run(1000, 0.8, 1)\n",
        "plt.figure()\n",
        "plt.hist(second_experiment, range(0,20))\n",
        "plt.title('Experiment 2')\n",
        "plt.xlabel('Queue Length')\n",
        "plt.ylabel('Frequency')\n",
        "plt.show()\n",
        "\n",
        "mean = np.mean(second_experiment)\n",
        "t_val = sts.sem(second_experiment)\n",
        "\n",
        "print('Sample mean:', mean)\n",
        "print('95% confidence interval of population mean:', [mean + 1.96*t_val, mean - 1.96*t_val])"
      ],
      "metadata": {
        "colab": {
          "base_uri": "https://localhost:8080/",
          "height": 330
        },
        "id": "D7SNjhp7AcTU",
        "outputId": "277e8131-579c-442c-d836-800d5883b491"
      },
      "execution_count": 15,
      "outputs": [
        {
          "output_type": "display_data",
          "data": {
            "image/png": "[encoded data removed]",
            "text/plain": [
              "<Figure size 432x288 with 1 Axes>"
            ]
          },
          "metadata": {
            "needs_background": "light"
          }
        },
        {
          "output_type": "stream",
          "name": "stdout",
          "text": [
            "Sample mean: 1.737\n",
            "95% confidence interval of population mean: [1.8808327035698635, 1.5931672964301367]\n"
          ]
        }
      ]
    },
    {
      "cell_type": "code",
      "source": [
        "third_experiment = trial_run(1000, 0.4, 1)\n",
        "plt.figure()\n",
        "plt.hist(third_experiment, range(0,20))\n",
        "plt.title('Experiment 3')\n",
        "plt.xlabel('Queue Length')\n",
        "plt.ylabel('Frequency')\n",
        "plt.show()\n",
        "\n",
        "mean = np.mean(third_experiment)\n",
        "t_val = sts.sem(third_experiment)\n",
        "\n",
        "print('Sample mean:', mean)\n",
        "print('95% confidence interval of population mean:', [mean + 1.96*t_val, mean - 1.96*t_val])"
      ],
      "metadata": {
        "colab": {
          "base_uri": "https://localhost:8080/",
          "height": 330
        },
        "id": "57yT1wc5BZkT",
        "outputId": "5eb83d26-8cb4-4626-ac3e-3bf5f1d629b6"
      },
      "execution_count": 16,
      "outputs": [
        {
          "output_type": "display_data",
          "data": {
            "image/png": "[encoded data removed]",
            "text/plain": [
              "<Figure size 432x288 with 1 Axes>"
            ]
          },
          "metadata": {
            "needs_background": "light"
          }
        },
        {
          "output_type": "stream",
          "name": "stdout",
          "text": [
            "Sample mean: 0.123\n",
            "95% confidence interval of population mean: [0.14987838688019206, 0.09612161311980794]\n"
          ]
        }
      ]
    },
    {
      "cell_type": "markdown",
      "source": [
        "Both #EmpiricalAnalyses and #Professionalism were applied throughout this exercise. I think that this exercise was geared towards me understanding the model evaluation techniques and process. For this purpose,it was pertinent to experiment with the different levers of the model itself. By changing the number of people entering the system, the behavior of the system was better understood since it started converging with lesser attribution to random choice. Secondly, changing the arrival late determined how many blockages would be formed overall within the scenario. Service time was also linked with this and both of these combined to portray the long term behavior of the distribution and the system."
      ],
      "metadata": {
        "id": "c1z0Y3m8GWqG"
      }
    },
    {
      "cell_type": "code",
      "source": [
        ""
      ],
      "metadata": {
        "id": "X2wmta9hB5mL"
      },
      "execution_count": null,
      "outputs": []
    }
  ]
}